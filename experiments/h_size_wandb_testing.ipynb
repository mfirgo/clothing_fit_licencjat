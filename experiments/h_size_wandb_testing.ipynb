{
 "cells": [
  {
   "cell_type": "code",
   "execution_count": 1,
   "metadata": {},
   "outputs": [],
   "source": [
    "import os\n",
    "if os.path.basename(os.getcwd())=='experiments':\n",
    "    os.chdir(\"./..\")"
   ]
  },
  {
   "cell_type": "code",
   "execution_count": 3,
   "metadata": {},
   "outputs": [],
   "source": [
    "import wandb\n",
    "from model.hierarchical_size_model_new import *\n",
    "#from utils.data_preparation import *\n",
    "#import seaborn as sns\n",
    "#import matplotlib.pyplot as plt\n",
    "#from utils.evaluation import *\n",
    "from utils.experiment import *\n",
    "import random"
   ]
  },
  {
   "cell_type": "markdown",
   "metadata": {},
   "source": [
    "# Basic tests"
   ]
  },
  {
   "cell_type": "markdown",
   "metadata": {},
   "source": [
    "100 iteration test"
   ]
  },
  {
   "cell_type": "code",
   "execution_count": 22,
   "metadata": {},
   "outputs": [
    {
     "data": {
      "text/plain": [
       "{'default_learning_rate': 1,\n",
       " 'max_iter': 100,\n",
       " 'evaluation_iterations': [1, 2, 5, 10, 20, 50, 100]}"
      ]
     },
     "execution_count": 22,
     "metadata": {},
     "output_type": "execute_result"
    }
   ],
   "source": [
    "config = default_config()\n",
    "config\n",
    "# run_experiment(default_config(), notes=\"default configuration\", group=\"base_tests\")"
   ]
  },
  {
   "cell_type": "markdown",
   "metadata": {},
   "source": [
    "10000 iterations test"
   ]
  },
  {
   "cell_type": "code",
   "execution_count": 23,
   "metadata": {},
   "outputs": [
    {
     "data": {
      "text/plain": [
       "{'default_learning_rate': 1,\n",
       " 'max_iter': 10000,\n",
       " 'evaluation_iterations': [1, 100, 200, 500, 1000, 2000, 5000, 10000]}"
      ]
     },
     "execution_count": 23,
     "metadata": {},
     "output_type": "execute_result"
    }
   ],
   "source": [
    "config = default_config()\n",
    "config[\"max_iter\"] = 10000\n",
    "config[\"evaluation_iterations\"] = [1, 100, 200, 500, 1000, 2000, 5000, 10000] \n",
    "config\n",
    "# run_experiment(config, notes=\"default configuration, longer run\", group=\"base_tests\")"
   ]
  },
  {
   "cell_type": "markdown",
   "metadata": {},
   "source": [
    "## Switching learned parameters"
   ]
  },
  {
   "cell_type": "markdown",
   "metadata": {},
   "source": [
    "eta kept is learned"
   ]
  },
  {
   "cell_type": "code",
   "execution_count": 24,
   "metadata": {},
   "outputs": [
    {
     "data": {
      "text/plain": [
       "{'default_learning_rate': 1,\n",
       " 'max_iter': 100,\n",
       " 'evaluation_iterations': [1, 2, 5, 10, 20, 50, 100],\n",
       " 'mean_eta_kept_isconstant': False,\n",
       " 'variance_eta_kept_isconstant': False}"
      ]
     },
     "execution_count": 24,
     "metadata": {},
     "output_type": "execute_result"
    }
   ],
   "source": [
    "config = default_config(); config.update({\"mean_eta_kept_isconstant\":False, \"variance_eta_kept_isconstant\":False})\n",
    "config\n",
    "#run_experiment(config, notes=\"eta kept learned\", group=\"different learning parameters\")"
   ]
  },
  {
   "cell_type": "markdown",
   "metadata": {},
   "source": [
    "lerning / not learning parameters"
   ]
  },
  {
   "cell_type": "code",
   "execution_count": 33,
   "metadata": {},
   "outputs": [],
   "source": [
    "def create_config(mu_c, mu_a, sigma_c, eta_r, config = None):\n",
    "    if config is None:\n",
    "        config = default_config()\n",
    "    else:\n",
    "        config = config.copy()\n",
    "    config[\"mean_mu_c_isconstant\"], config[\"variance_mu_c_isconstant\"] = mu_c, mu_c\n",
    "    config[\"mean_mu_a_isconstant\"], config[\"variance_mu_a_isconstant\"] = mu_a, mu_a\n",
    "    config[\"mean_sigma_c_isconstant\"], config[\"variance_sigma_c_isconstant\"] = sigma_c, sigma_c\n",
    "    config[\"mean_eta_small_isconstant\"], config[\"variance_eta_small_isconstant\"] = eta_r, eta_r\n",
    "    config[\"mean_eta_big_isconstant\"], config[\"variance_eta_big_isconstant\"] = eta_r, eta_r\n",
    "    return config"
   ]
  },
  {
   "cell_type": "code",
   "execution_count": 35,
   "metadata": {},
   "outputs": [
    {
     "data": {
      "text/plain": [
       "{'default_learning_rate': 1,\n",
       " 'max_iter': 100,\n",
       " 'evaluation_iterations': [1, 2, 5, 10, 20, 50, 100],\n",
       " 'mean_mu_c_isconstant': True,\n",
       " 'variance_mu_c_isconstant': True,\n",
       " 'mean_mu_a_isconstant': True,\n",
       " 'variance_mu_a_isconstant': True,\n",
       " 'mean_sigma_c_isconstant': False,\n",
       " 'variance_sigma_c_isconstant': False,\n",
       " 'mean_eta_small_isconstant': True,\n",
       " 'variance_eta_small_isconstant': True,\n",
       " 'mean_eta_big_isconstant': True,\n",
       " 'variance_eta_big_isconstant': True}"
      ]
     },
     "execution_count": 35,
     "metadata": {},
     "output_type": "execute_result"
    }
   ],
   "source": [
    "import itertools\n",
    "configs = []\n",
    "for element in itertools.product(*[[True, False] for _ in range(4)]):\n",
    "    configs.append(create_config(*element))\n",
    "random.shuffle(configs)"
   ]
  },
  {
   "cell_type": "code",
   "execution_count": 40,
   "metadata": {},
   "outputs": [
    {
     "data": {
      "text/plain": [
       "[{'default_learning_rate': 1,\n",
       "  'max_iter': 100,\n",
       "  'evaluation_iterations': [1, 2, 5, 10, 20, 50, 100],\n",
       "  'mean_mu_c_isconstant': True,\n",
       "  'variance_mu_c_isconstant': True,\n",
       "  'mean_mu_a_isconstant': True,\n",
       "  'variance_mu_a_isconstant': True,\n",
       "  'mean_sigma_c_isconstant': False,\n",
       "  'variance_sigma_c_isconstant': False,\n",
       "  'mean_eta_small_isconstant': True,\n",
       "  'variance_eta_small_isconstant': True,\n",
       "  'mean_eta_big_isconstant': True,\n",
       "  'variance_eta_big_isconstant': True},\n",
       " {'default_learning_rate': 1,\n",
       "  'max_iter': 100,\n",
       "  'evaluation_iterations': [1, 2, 5, 10, 20, 50, 100],\n",
       "  'mean_mu_c_isconstant': True,\n",
       "  'variance_mu_c_isconstant': True,\n",
       "  'mean_mu_a_isconstant': False,\n",
       "  'variance_mu_a_isconstant': False,\n",
       "  'mean_sigma_c_isconstant': True,\n",
       "  'variance_sigma_c_isconstant': True,\n",
       "  'mean_eta_small_isconstant': False,\n",
       "  'variance_eta_small_isconstant': False,\n",
       "  'mean_eta_big_isconstant': False,\n",
       "  'variance_eta_big_isconstant': False},\n",
       " {'default_learning_rate': 1,\n",
       "  'max_iter': 100,\n",
       "  'evaluation_iterations': [1, 2, 5, 10, 20, 50, 100],\n",
       "  'mean_mu_c_isconstant': True,\n",
       "  'variance_mu_c_isconstant': True,\n",
       "  'mean_mu_a_isconstant': True,\n",
       "  'variance_mu_a_isconstant': True,\n",
       "  'mean_sigma_c_isconstant': True,\n",
       "  'variance_sigma_c_isconstant': True,\n",
       "  'mean_eta_small_isconstant': False,\n",
       "  'variance_eta_small_isconstant': False,\n",
       "  'mean_eta_big_isconstant': False,\n",
       "  'variance_eta_big_isconstant': False},\n",
       " {'default_learning_rate': 1,\n",
       "  'max_iter': 100,\n",
       "  'evaluation_iterations': [1, 2, 5, 10, 20, 50, 100],\n",
       "  'mean_mu_c_isconstant': False,\n",
       "  'variance_mu_c_isconstant': False,\n",
       "  'mean_mu_a_isconstant': True,\n",
       "  'variance_mu_a_isconstant': True,\n",
       "  'mean_sigma_c_isconstant': False,\n",
       "  'variance_sigma_c_isconstant': False,\n",
       "  'mean_eta_small_isconstant': True,\n",
       "  'variance_eta_small_isconstant': True,\n",
       "  'mean_eta_big_isconstant': True,\n",
       "  'variance_eta_big_isconstant': True},\n",
       " {'default_learning_rate': 1,\n",
       "  'max_iter': 100,\n",
       "  'evaluation_iterations': [1, 2, 5, 10, 20, 50, 100],\n",
       "  'mean_mu_c_isconstant': False,\n",
       "  'variance_mu_c_isconstant': False,\n",
       "  'mean_mu_a_isconstant': False,\n",
       "  'variance_mu_a_isconstant': False,\n",
       "  'mean_sigma_c_isconstant': True,\n",
       "  'variance_sigma_c_isconstant': True,\n",
       "  'mean_eta_small_isconstant': False,\n",
       "  'variance_eta_small_isconstant': False,\n",
       "  'mean_eta_big_isconstant': False,\n",
       "  'variance_eta_big_isconstant': False},\n",
       " {'default_learning_rate': 1,\n",
       "  'max_iter': 100,\n",
       "  'evaluation_iterations': [1, 2, 5, 10, 20, 50, 100],\n",
       "  'mean_mu_c_isconstant': False,\n",
       "  'variance_mu_c_isconstant': False,\n",
       "  'mean_mu_a_isconstant': True,\n",
       "  'variance_mu_a_isconstant': True,\n",
       "  'mean_sigma_c_isconstant': True,\n",
       "  'variance_sigma_c_isconstant': True,\n",
       "  'mean_eta_small_isconstant': False,\n",
       "  'variance_eta_small_isconstant': False,\n",
       "  'mean_eta_big_isconstant': False,\n",
       "  'variance_eta_big_isconstant': False},\n",
       " {'default_learning_rate': 1,\n",
       "  'max_iter': 100,\n",
       "  'evaluation_iterations': [1, 2, 5, 10, 20, 50, 100],\n",
       "  'mean_mu_c_isconstant': True,\n",
       "  'variance_mu_c_isconstant': True,\n",
       "  'mean_mu_a_isconstant': True,\n",
       "  'variance_mu_a_isconstant': True,\n",
       "  'mean_sigma_c_isconstant': True,\n",
       "  'variance_sigma_c_isconstant': True,\n",
       "  'mean_eta_small_isconstant': True,\n",
       "  'variance_eta_small_isconstant': True,\n",
       "  'mean_eta_big_isconstant': True,\n",
       "  'variance_eta_big_isconstant': True},\n",
       " {'default_learning_rate': 1,\n",
       "  'max_iter': 100,\n",
       "  'evaluation_iterations': [1, 2, 5, 10, 20, 50, 100],\n",
       "  'mean_mu_c_isconstant': True,\n",
       "  'variance_mu_c_isconstant': True,\n",
       "  'mean_mu_a_isconstant': True,\n",
       "  'variance_mu_a_isconstant': True,\n",
       "  'mean_sigma_c_isconstant': False,\n",
       "  'variance_sigma_c_isconstant': False,\n",
       "  'mean_eta_small_isconstant': False,\n",
       "  'variance_eta_small_isconstant': False,\n",
       "  'mean_eta_big_isconstant': False,\n",
       "  'variance_eta_big_isconstant': False},\n",
       " {'default_learning_rate': 1,\n",
       "  'max_iter': 100,\n",
       "  'evaluation_iterations': [1, 2, 5, 10, 20, 50, 100],\n",
       "  'mean_mu_c_isconstant': False,\n",
       "  'variance_mu_c_isconstant': False,\n",
       "  'mean_mu_a_isconstant': True,\n",
       "  'variance_mu_a_isconstant': True,\n",
       "  'mean_sigma_c_isconstant': True,\n",
       "  'variance_sigma_c_isconstant': True,\n",
       "  'mean_eta_small_isconstant': True,\n",
       "  'variance_eta_small_isconstant': True,\n",
       "  'mean_eta_big_isconstant': True,\n",
       "  'variance_eta_big_isconstant': True},\n",
       " {'default_learning_rate': 1,\n",
       "  'max_iter': 100,\n",
       "  'evaluation_iterations': [1, 2, 5, 10, 20, 50, 100],\n",
       "  'mean_mu_c_isconstant': True,\n",
       "  'variance_mu_c_isconstant': True,\n",
       "  'mean_mu_a_isconstant': False,\n",
       "  'variance_mu_a_isconstant': False,\n",
       "  'mean_sigma_c_isconstant': True,\n",
       "  'variance_sigma_c_isconstant': True,\n",
       "  'mean_eta_small_isconstant': True,\n",
       "  'variance_eta_small_isconstant': True,\n",
       "  'mean_eta_big_isconstant': True,\n",
       "  'variance_eta_big_isconstant': True},\n",
       " {'default_learning_rate': 1,\n",
       "  'max_iter': 100,\n",
       "  'evaluation_iterations': [1, 2, 5, 10, 20, 50, 100],\n",
       "  'mean_mu_c_isconstant': False,\n",
       "  'variance_mu_c_isconstant': False,\n",
       "  'mean_mu_a_isconstant': False,\n",
       "  'variance_mu_a_isconstant': False,\n",
       "  'mean_sigma_c_isconstant': True,\n",
       "  'variance_sigma_c_isconstant': True,\n",
       "  'mean_eta_small_isconstant': True,\n",
       "  'variance_eta_small_isconstant': True,\n",
       "  'mean_eta_big_isconstant': True,\n",
       "  'variance_eta_big_isconstant': True},\n",
       " {'default_learning_rate': 1,\n",
       "  'max_iter': 100,\n",
       "  'evaluation_iterations': [1, 2, 5, 10, 20, 50, 100],\n",
       "  'mean_mu_c_isconstant': True,\n",
       "  'variance_mu_c_isconstant': True,\n",
       "  'mean_mu_a_isconstant': False,\n",
       "  'variance_mu_a_isconstant': False,\n",
       "  'mean_sigma_c_isconstant': False,\n",
       "  'variance_sigma_c_isconstant': False,\n",
       "  'mean_eta_small_isconstant': True,\n",
       "  'variance_eta_small_isconstant': True,\n",
       "  'mean_eta_big_isconstant': True,\n",
       "  'variance_eta_big_isconstant': True},\n",
       " {'default_learning_rate': 1,\n",
       "  'max_iter': 100,\n",
       "  'evaluation_iterations': [1, 2, 5, 10, 20, 50, 100],\n",
       "  'mean_mu_c_isconstant': True,\n",
       "  'variance_mu_c_isconstant': True,\n",
       "  'mean_mu_a_isconstant': False,\n",
       "  'variance_mu_a_isconstant': False,\n",
       "  'mean_sigma_c_isconstant': False,\n",
       "  'variance_sigma_c_isconstant': False,\n",
       "  'mean_eta_small_isconstant': False,\n",
       "  'variance_eta_small_isconstant': False,\n",
       "  'mean_eta_big_isconstant': False,\n",
       "  'variance_eta_big_isconstant': False},\n",
       " {'default_learning_rate': 1,\n",
       "  'max_iter': 100,\n",
       "  'evaluation_iterations': [1, 2, 5, 10, 20, 50, 100],\n",
       "  'mean_mu_c_isconstant': False,\n",
       "  'variance_mu_c_isconstant': False,\n",
       "  'mean_mu_a_isconstant': False,\n",
       "  'variance_mu_a_isconstant': False,\n",
       "  'mean_sigma_c_isconstant': False,\n",
       "  'variance_sigma_c_isconstant': False,\n",
       "  'mean_eta_small_isconstant': True,\n",
       "  'variance_eta_small_isconstant': True,\n",
       "  'mean_eta_big_isconstant': True,\n",
       "  'variance_eta_big_isconstant': True},\n",
       " {'default_learning_rate': 1,\n",
       "  'max_iter': 100,\n",
       "  'evaluation_iterations': [1, 2, 5, 10, 20, 50, 100],\n",
       "  'mean_mu_c_isconstant': False,\n",
       "  'variance_mu_c_isconstant': False,\n",
       "  'mean_mu_a_isconstant': False,\n",
       "  'variance_mu_a_isconstant': False,\n",
       "  'mean_sigma_c_isconstant': False,\n",
       "  'variance_sigma_c_isconstant': False,\n",
       "  'mean_eta_small_isconstant': False,\n",
       "  'variance_eta_small_isconstant': False,\n",
       "  'mean_eta_big_isconstant': False,\n",
       "  'variance_eta_big_isconstant': False},\n",
       " {'default_learning_rate': 1,\n",
       "  'max_iter': 100,\n",
       "  'evaluation_iterations': [1, 2, 5, 10, 20, 50, 100],\n",
       "  'mean_mu_c_isconstant': False,\n",
       "  'variance_mu_c_isconstant': False,\n",
       "  'mean_mu_a_isconstant': True,\n",
       "  'variance_mu_a_isconstant': True,\n",
       "  'mean_sigma_c_isconstant': False,\n",
       "  'variance_sigma_c_isconstant': False,\n",
       "  'mean_eta_small_isconstant': False,\n",
       "  'variance_eta_small_isconstant': False,\n",
       "  'mean_eta_big_isconstant': False,\n",
       "  'variance_eta_big_isconstant': False}]"
      ]
     },
     "execution_count": 40,
     "metadata": {},
     "output_type": "execute_result"
    }
   ],
   "source": [
    "configs"
   ]
  },
  {
   "cell_type": "code",
   "execution_count": 15,
   "metadata": {},
   "outputs": [
    {
     "data": {
      "text/plain": [
       "{'default_learning_rate': 1,\n",
       " 'max_iter': 100,\n",
       " 'evaluation_iterations': [1, 2, 5, 10, 20, 50, 100],\n",
       " 'mean_mu_c_isconstant': True,\n",
       " 'variance_mu_c_isconstant': True,\n",
       " 'mean_mu_a_isconstant': False,\n",
       " 'variance_mu_a_isconstant': False,\n",
       " 'mean_sigma_c_isconstant': False,\n",
       " 'variance_sigma_c_isconstant': False,\n",
       " 'mean_eta_small_isconstant': True,\n",
       " 'variance_eta_small_isconstant': True,\n",
       " 'mean_eta_big_isconstant': True,\n",
       " 'variance_eta_big_isconstant': True}"
      ]
     },
     "execution_count": 15,
     "metadata": {},
     "output_type": "execute_result"
    }
   ],
   "source": [
    "create_config(True, False, False, True)"
   ]
  },
  {
   "cell_type": "code",
   "execution_count": null,
   "metadata": {},
   "outputs": [],
   "source": []
  }
 ],
 "metadata": {
  "kernelspec": {
   "display_name": "Python 3.8.10 64-bit",
   "language": "python",
   "name": "python3"
  },
  "language_info": {
   "codemirror_mode": {
    "name": "ipython",
    "version": 3
   },
   "file_extension": ".py",
   "mimetype": "text/x-python",
   "name": "python",
   "nbconvert_exporter": "python",
   "pygments_lexer": "ipython3",
   "version": "3.8.10"
  },
  "orig_nbformat": 4,
  "vscode": {
   "interpreter": {
    "hash": "31f2aee4e71d21fbe5cf8b01ff0e069b9275f58929596ceb00d14d90e3e16cd6"
   }
  }
 },
 "nbformat": 4,
 "nbformat_minor": 2
}
