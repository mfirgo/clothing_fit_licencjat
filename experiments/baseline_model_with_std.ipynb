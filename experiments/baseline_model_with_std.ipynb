{
 "cells": [
  {
   "cell_type": "code",
   "execution_count": 1,
   "metadata": {},
   "outputs": [],
   "source": [
    "import os\n",
    "if os.path.basename(os.getcwd())=='experiments':\n",
    "    os.chdir(\"./..\")"
   ]
  },
  {
   "cell_type": "code",
   "execution_count": 2,
   "metadata": {},
   "outputs": [],
   "source": [
    "import numpy as np\n",
    "import pandas as pd\n",
    "import sklearn.neighbors\n",
    "from utils.data_preparation import *\n",
    "from model.baseline_model import BaselineModel\n",
    "from sklearn.metrics import confusion_matrix\n",
    "import seaborn as sns\n",
    "import sklearn.metrics \n",
    "from utils.evaluation import create_confusion_matrix, show_confusion_matrix, result_stats_size_model\n",
    "\n",
    "LOAD_MODELS = False"
   ]
  },
  {
   "cell_type": "markdown",
   "metadata": {},
   "source": [
    "## Used Datasets configuration"
   ]
  },
  {
   "cell_type": "code",
   "execution_count": 3,
   "metadata": {},
   "outputs": [
    {
     "name": "stdout",
     "output_type": "stream",
     "text": [
      "full dataset config\n",
      " {'dataset': 'renttherunway', 'dataset_type': 'full'}\n",
      "test dataset config\n",
      " {'dataset': 'renttherunway', 'test_size': 0.1, 'random_state': 2022, 'dataset_type': 'test-stratified'}\n",
      "train dataset config\n",
      " {'dataset': 'renttherunway', 'test_size': 0.1, 'random_state': 2022, 'dataset_type': 'train-stratified'}\n"
     ]
    }
   ],
   "source": [
    "full_config = {\"dataset\": \"renttherunway\",\n",
    "               \"dataset_type\": \"full\"}\n",
    "test_train_config = {\"dataset\": \"renttherunway\",\n",
    "                     \"test_size\": 0.1,\n",
    "                     \"random_state\": 2022}\n",
    "test_config = test_train_config.copy()\n",
    "test_config[\"dataset_type\"] = \"test-stratified\"\n",
    "train_config = test_train_config.copy()\n",
    "train_config[\"dataset_type\"] = \"train-stratified\"\n",
    "print(\"full dataset config\\n\", full_config)\n",
    "print(\"test dataset config\\n\", test_config)\n",
    "print(\"train dataset config\\n\", train_config)\n"
   ]
  },
  {
   "cell_type": "code",
   "execution_count": 4,
   "metadata": {},
   "outputs": [
    {
     "name": "stdout",
     "output_type": "stream",
     "text": [
      "baseline_results_teston_renttherunway-full_trainon_renttherunway-full\n",
      "baseline_results_teston_renttherunway-test-stratified-tsize=0.1-rand=2022_trainon_renttherunway-full\n",
      "baseline_results_teston_renttherunway-test-stratified-tsize=0.1-rand=2022_trainon_renttherunway-train-stratified-tsize=0.1-rand=2022\n",
      "baseline_results_teston_renttherunway-train-stratified-tsize=0.1-rand=2022_trainon_renttherunway-train-stratified-tsize=0.1-rand=2022\n"
     ]
    }
   ],
   "source": [
    "def config_string(config):\n",
    "    result = f'{config[\"dataset\"]}-{config[\"dataset_type\"]}'\n",
    "    if \"test_size\" in config:\n",
    "        result+=f'-tsize={config[\"test_size\"]}'\n",
    "    if \"random_state\" in config:\n",
    "        result+=f'-rand={config[\"random_state\"]}'\n",
    "    return result\n",
    "full_on_full_datapath = f\"baseline_results_teston_{config_string(full_config)}_trainon_{config_string(full_config)}\"\n",
    "test_on_full_datapath = f\"baseline_results_teston_{config_string(test_config)}_trainon_{config_string(full_config)}\"\n",
    "test_on_train_datapath = f\"baseline_results_teston_{config_string(test_config)}_trainon_{config_string(train_config)}\"\n",
    "train_on_train_datapath = f\"baseline_results_teston_{config_string(train_config)}_trainon_{config_string(train_config)}\"\n",
    "print(full_on_full_datapath, test_on_full_datapath, test_on_train_datapath, train_on_train_datapath, sep=\"\\n\")\n"
   ]
  },
  {
   "cell_type": "markdown",
   "metadata": {},
   "source": [
    "# Baseline model\n",
    "\n",
    "$ p(\\mathcal{S}, \\mathcal{R} | \\mathcal{C}, \\mathcal{A}) =\n",
    "p(\\mathcal{S}|\\mathcal{C}\\mathcal{A})p(\\mathcal{R}|\\mathcal{C}\\mathcal{A})$  \n",
    "\n",
    "**Probability over sizes**  \n",
    "$p(s|c_j) = \\frac{1}{n_jh_j}\\sum_{i=1}^{n_j} \\phi(\\frac{s-s_i}{h_j})\n",
    "= \\frac{1}{n_j}\\sum_{i=1}^{n_j} \\frac{1}{h_j\\sqrt{2\\pi}}e^{(\\frac{s-s_i}{h_j})^2}$  \n",
    "$= \\frac{1}{n_j}\\sum_{i=1}^{n_j} \\mathcal{N}(s | s_i, h_j^2)$  \n",
    "$= \\frac{1}{n_jh_j\\sqrt{2\\pi}}\\sum_{i=1}^{n_j} e^{(\\frac{s-s_i}{h_j})^2}$   $\n",
    "\n",
    "Where:  \n",
    "$\\phi$ - normal density function  \n",
    "$h_j$ - bandwidth parameter for specific customer, for now we are using 1 for all customers. \n",
    "\n",
    "**Probablity over return status**  \n",
    "$p(\\mathcal{R}|\\mathcal{C}\\mathcal{A}) = p(\\mathcal{R}|\\mathcal{A})$  \n",
    "$p(r|a_i) = \\frac{n_{i, r} + 1}{n_i + 3}$   \n",
    "Article $a_i$ was ordered $n_i$ times and got return status $r$ $n_{i, r}$ times.  \n",
    "\n",
    "------------------\n",
    "\n",
    "**NOTES:**  \n",
    "We could add parameter like so:  \n",
    "$p(r|a_i) = \\frac{n_{i, r} + \n",
    "\\rho}{n_i + 3\\rho}$   \n"
   ]
  },
  {
   "cell_type": "markdown",
   "metadata": {},
   "source": [
    "## Full Dataset test"
   ]
  },
  {
   "cell_type": "code",
   "execution_count": 5,
   "metadata": {},
   "outputs": [],
   "source": [
    "if LOAD_MODELS:\n",
    "    full_result = pd.read_csv(f\"results/{full_on_full_datapath}.csv\")\n",
    "    test_on_full_result = pd.read_csv(f\"results/{test_on_full_datapath}.csv\")\n",
    "else:\n",
    "    df = get_data_from_config(full_config)\n",
    "    test = get_data_from_config(test_config)\n",
    "    bs = BaselineModel()\n",
    "    bs.train_model(df)\n",
    "    full_result = bs.full_predict_and_logprob(df)\n",
    "    full_result.to_csv(f\"results/{full_on_full_datapath}.csv\", index=False)\n",
    "    test_on_full_result = bs.full_predict_and_logprob(test)\n",
    "    test_on_full_result.to_csv(f\"results/{test_on_full_datapath}.csv\", index=False)\n"
   ]
  },
  {
   "cell_type": "code",
   "execution_count": 6,
   "metadata": {},
   "outputs": [
    {
     "data": {
      "text/html": [
       "<div>\n",
       "<style scoped>\n",
       "    .dataframe tbody tr th:only-of-type {\n",
       "        vertical-align: middle;\n",
       "    }\n",
       "\n",
       "    .dataframe tbody tr th {\n",
       "        vertical-align: top;\n",
       "    }\n",
       "\n",
       "    .dataframe thead th {\n",
       "        text-align: right;\n",
       "    }\n",
       "</style>\n",
       "<table border=\"1\" class=\"dataframe\">\n",
       "  <thead>\n",
       "    <tr style=\"text-align: right;\">\n",
       "      <th></th>\n",
       "      <th>result_original</th>\n",
       "      <th>user_id_original</th>\n",
       "      <th>item_id_original</th>\n",
       "      <th>size</th>\n",
       "      <th>review_date</th>\n",
       "      <th>category</th>\n",
       "      <th>user_id</th>\n",
       "      <th>item_id</th>\n",
       "      <th>result</th>\n",
       "      <th>predicted_size</th>\n",
       "      <th>...</th>\n",
       "      <th>2</th>\n",
       "      <th>predicted_return_status</th>\n",
       "      <th>predicted_return_status_prob</th>\n",
       "      <th>predicted_return_status_logprob</th>\n",
       "      <th>return_status_prob</th>\n",
       "      <th>return_status_logprob</th>\n",
       "      <th>full_predicted_prob</th>\n",
       "      <th>full_predicted_logprob</th>\n",
       "      <th>full_prob</th>\n",
       "      <th>full_logprob</th>\n",
       "    </tr>\n",
       "  </thead>\n",
       "  <tbody>\n",
       "    <tr>\n",
       "      <th>0</th>\n",
       "      <td>fit</td>\n",
       "      <td>420272</td>\n",
       "      <td>2260466</td>\n",
       "      <td>14</td>\n",
       "      <td>April 20, 2016</td>\n",
       "      <td>romper</td>\n",
       "      <td>44334</td>\n",
       "      <td>4396</td>\n",
       "      <td>0</td>\n",
       "      <td>14</td>\n",
       "      <td>...</td>\n",
       "      <td>0.322581</td>\n",
       "      <td>0</td>\n",
       "      <td>0.645161</td>\n",
       "      <td>-0.438255</td>\n",
       "      <td>0.645161</td>\n",
       "      <td>-0.438255</td>\n",
       "      <td>0.177394</td>\n",
       "      <td>-1.729385</td>\n",
       "      <td>0.177394</td>\n",
       "      <td>-1.729385</td>\n",
       "    </tr>\n",
       "    <tr>\n",
       "      <th>1</th>\n",
       "      <td>fit</td>\n",
       "      <td>273551</td>\n",
       "      <td>153475</td>\n",
       "      <td>12</td>\n",
       "      <td>June 18, 2013</td>\n",
       "      <td>gown</td>\n",
       "      <td>28835</td>\n",
       "      <td>65</td>\n",
       "      <td>0</td>\n",
       "      <td>12</td>\n",
       "      <td>...</td>\n",
       "      <td>0.080460</td>\n",
       "      <td>0</td>\n",
       "      <td>0.783525</td>\n",
       "      <td>-0.243952</td>\n",
       "      <td>0.783525</td>\n",
       "      <td>-0.243952</td>\n",
       "      <td>0.312581</td>\n",
       "      <td>-1.162891</td>\n",
       "      <td>0.312581</td>\n",
       "      <td>-1.162891</td>\n",
       "    </tr>\n",
       "    <tr>\n",
       "      <th>2</th>\n",
       "      <td>fit</td>\n",
       "      <td>360448</td>\n",
       "      <td>1063761</td>\n",
       "      <td>4</td>\n",
       "      <td>December 14, 2015</td>\n",
       "      <td>sheath</td>\n",
       "      <td>37976</td>\n",
       "      <td>1945</td>\n",
       "      <td>0</td>\n",
       "      <td>4</td>\n",
       "      <td>...</td>\n",
       "      <td>0.250000</td>\n",
       "      <td>0</td>\n",
       "      <td>0.714286</td>\n",
       "      <td>-0.336472</td>\n",
       "      <td>0.714286</td>\n",
       "      <td>-0.336472</td>\n",
       "      <td>0.284959</td>\n",
       "      <td>-1.255411</td>\n",
       "      <td>0.284959</td>\n",
       "      <td>-1.255411</td>\n",
       "    </tr>\n",
       "    <tr>\n",
       "      <th>3</th>\n",
       "      <td>fit</td>\n",
       "      <td>909926</td>\n",
       "      <td>126335</td>\n",
       "      <td>8</td>\n",
       "      <td>February 12, 2014</td>\n",
       "      <td>dress</td>\n",
       "      <td>96080</td>\n",
       "      <td>7</td>\n",
       "      <td>0</td>\n",
       "      <td>8</td>\n",
       "      <td>...</td>\n",
       "      <td>0.047683</td>\n",
       "      <td>0</td>\n",
       "      <td>0.748217</td>\n",
       "      <td>-0.290062</td>\n",
       "      <td>0.748217</td>\n",
       "      <td>-0.290062</td>\n",
       "      <td>0.298496</td>\n",
       "      <td>-1.209000</td>\n",
       "      <td>0.298496</td>\n",
       "      <td>-1.209000</td>\n",
       "    </tr>\n",
       "    <tr>\n",
       "      <th>4</th>\n",
       "      <td>fit</td>\n",
       "      <td>151944</td>\n",
       "      <td>616682</td>\n",
       "      <td>12</td>\n",
       "      <td>September 26, 2016</td>\n",
       "      <td>gown</td>\n",
       "      <td>15959</td>\n",
       "      <td>1032</td>\n",
       "      <td>0</td>\n",
       "      <td>16</td>\n",
       "      <td>...</td>\n",
       "      <td>0.034188</td>\n",
       "      <td>0</td>\n",
       "      <td>0.931624</td>\n",
       "      <td>-0.070826</td>\n",
       "      <td>0.931624</td>\n",
       "      <td>-0.070826</td>\n",
       "      <td>0.265510</td>\n",
       "      <td>-1.326103</td>\n",
       "      <td>0.053184</td>\n",
       "      <td>-2.933999</td>\n",
       "    </tr>\n",
       "    <tr>\n",
       "      <th>...</th>\n",
       "      <td>...</td>\n",
       "      <td>...</td>\n",
       "      <td>...</td>\n",
       "      <td>...</td>\n",
       "      <td>...</td>\n",
       "      <td>...</td>\n",
       "      <td>...</td>\n",
       "      <td>...</td>\n",
       "      <td>...</td>\n",
       "      <td>...</td>\n",
       "      <td>...</td>\n",
       "      <td>...</td>\n",
       "      <td>...</td>\n",
       "      <td>...</td>\n",
       "      <td>...</td>\n",
       "      <td>...</td>\n",
       "      <td>...</td>\n",
       "      <td>...</td>\n",
       "      <td>...</td>\n",
       "      <td>...</td>\n",
       "      <td>...</td>\n",
       "    </tr>\n",
       "    <tr>\n",
       "      <th>192539</th>\n",
       "      <td>fit</td>\n",
       "      <td>66386</td>\n",
       "      <td>2252812</td>\n",
       "      <td>8</td>\n",
       "      <td>May 18, 2016</td>\n",
       "      <td>jumpsuit</td>\n",
       "      <td>7026</td>\n",
       "      <td>4382</td>\n",
       "      <td>0</td>\n",
       "      <td>8</td>\n",
       "      <td>...</td>\n",
       "      <td>0.021277</td>\n",
       "      <td>0</td>\n",
       "      <td>0.893617</td>\n",
       "      <td>-0.112478</td>\n",
       "      <td>0.893617</td>\n",
       "      <td>-0.112478</td>\n",
       "      <td>0.254678</td>\n",
       "      <td>-1.367755</td>\n",
       "      <td>0.254678</td>\n",
       "      <td>-1.367755</td>\n",
       "    </tr>\n",
       "    <tr>\n",
       "      <th>192540</th>\n",
       "      <td>fit</td>\n",
       "      <td>118398</td>\n",
       "      <td>682043</td>\n",
       "      <td>4</td>\n",
       "      <td>September 30, 2016</td>\n",
       "      <td>dress</td>\n",
       "      <td>12494</td>\n",
       "      <td>1164</td>\n",
       "      <td>0</td>\n",
       "      <td>4</td>\n",
       "      <td>...</td>\n",
       "      <td>0.183099</td>\n",
       "      <td>0</td>\n",
       "      <td>0.746479</td>\n",
       "      <td>-0.292388</td>\n",
       "      <td>0.746479</td>\n",
       "      <td>-0.292388</td>\n",
       "      <td>0.199637</td>\n",
       "      <td>-1.611252</td>\n",
       "      <td>0.199637</td>\n",
       "      <td>-1.611252</td>\n",
       "    </tr>\n",
       "    <tr>\n",
       "      <th>192541</th>\n",
       "      <td>fit</td>\n",
       "      <td>47002</td>\n",
       "      <td>683251</td>\n",
       "      <td>8</td>\n",
       "      <td>March 4, 2016</td>\n",
       "      <td>dress</td>\n",
       "      <td>5019</td>\n",
       "      <td>1166</td>\n",
       "      <td>0</td>\n",
       "      <td>8</td>\n",
       "      <td>...</td>\n",
       "      <td>0.255639</td>\n",
       "      <td>0</td>\n",
       "      <td>0.721805</td>\n",
       "      <td>-0.326001</td>\n",
       "      <td>0.721805</td>\n",
       "      <td>-0.326001</td>\n",
       "      <td>0.203995</td>\n",
       "      <td>-1.589662</td>\n",
       "      <td>0.203995</td>\n",
       "      <td>-1.589662</td>\n",
       "    </tr>\n",
       "    <tr>\n",
       "      <th>192542</th>\n",
       "      <td>fit</td>\n",
       "      <td>961120</td>\n",
       "      <td>126335</td>\n",
       "      <td>16</td>\n",
       "      <td>November 25, 2015</td>\n",
       "      <td>dress</td>\n",
       "      <td>101534</td>\n",
       "      <td>7</td>\n",
       "      <td>0</td>\n",
       "      <td>16</td>\n",
       "      <td>...</td>\n",
       "      <td>0.047683</td>\n",
       "      <td>0</td>\n",
       "      <td>0.748217</td>\n",
       "      <td>-0.290062</td>\n",
       "      <td>0.748217</td>\n",
       "      <td>-0.290062</td>\n",
       "      <td>0.298496</td>\n",
       "      <td>-1.209000</td>\n",
       "      <td>0.298496</td>\n",
       "      <td>-1.209000</td>\n",
       "    </tr>\n",
       "    <tr>\n",
       "      <th>192543</th>\n",
       "      <td>fit</td>\n",
       "      <td>123612</td>\n",
       "      <td>127865</td>\n",
       "      <td>16</td>\n",
       "      <td>August 29, 2017</td>\n",
       "      <td>gown</td>\n",
       "      <td>13040</td>\n",
       "      <td>10</td>\n",
       "      <td>0</td>\n",
       "      <td>16</td>\n",
       "      <td>...</td>\n",
       "      <td>0.056590</td>\n",
       "      <td>0</td>\n",
       "      <td>0.916189</td>\n",
       "      <td>-0.087532</td>\n",
       "      <td>0.916189</td>\n",
       "      <td>-0.087532</td>\n",
       "      <td>0.365507</td>\n",
       "      <td>-1.006471</td>\n",
       "      <td>0.365507</td>\n",
       "      <td>-1.006471</td>\n",
       "    </tr>\n",
       "  </tbody>\n",
       "</table>\n",
       "<p>192544 rows × 26 columns</p>\n",
       "</div>"
      ],
      "text/plain": [
       "       result_original  user_id_original  item_id_original  size  \\\n",
       "0                  fit            420272           2260466    14   \n",
       "1                  fit            273551            153475    12   \n",
       "2                  fit            360448           1063761     4   \n",
       "3                  fit            909926            126335     8   \n",
       "4                  fit            151944            616682    12   \n",
       "...                ...               ...               ...   ...   \n",
       "192539             fit             66386           2252812     8   \n",
       "192540             fit            118398            682043     4   \n",
       "192541             fit             47002            683251     8   \n",
       "192542             fit            961120            126335    16   \n",
       "192543             fit            123612            127865    16   \n",
       "\n",
       "               review_date  category  user_id  item_id  result  \\\n",
       "0           April 20, 2016    romper    44334     4396       0   \n",
       "1            June 18, 2013      gown    28835       65       0   \n",
       "2        December 14, 2015    sheath    37976     1945       0   \n",
       "3        February 12, 2014     dress    96080        7       0   \n",
       "4       September 26, 2016      gown    15959     1032       0   \n",
       "...                    ...       ...      ...      ...     ...   \n",
       "192539        May 18, 2016  jumpsuit     7026     4382       0   \n",
       "192540  September 30, 2016     dress    12494     1164       0   \n",
       "192541       March 4, 2016     dress     5019     1166       0   \n",
       "192542   November 25, 2015     dress   101534        7       0   \n",
       "192543     August 29, 2017      gown    13040       10       0   \n",
       "\n",
       "        predicted_size  ...         2  predicted_return_status  \\\n",
       "0                   14  ...  0.322581                        0   \n",
       "1                   12  ...  0.080460                        0   \n",
       "2                    4  ...  0.250000                        0   \n",
       "3                    8  ...  0.047683                        0   \n",
       "4                   16  ...  0.034188                        0   \n",
       "...                ...  ...       ...                      ...   \n",
       "192539               8  ...  0.021277                        0   \n",
       "192540               4  ...  0.183099                        0   \n",
       "192541               8  ...  0.255639                        0   \n",
       "192542              16  ...  0.047683                        0   \n",
       "192543              16  ...  0.056590                        0   \n",
       "\n",
       "        predicted_return_status_prob  predicted_return_status_logprob  \\\n",
       "0                           0.645161                        -0.438255   \n",
       "1                           0.783525                        -0.243952   \n",
       "2                           0.714286                        -0.336472   \n",
       "3                           0.748217                        -0.290062   \n",
       "4                           0.931624                        -0.070826   \n",
       "...                              ...                              ...   \n",
       "192539                      0.893617                        -0.112478   \n",
       "192540                      0.746479                        -0.292388   \n",
       "192541                      0.721805                        -0.326001   \n",
       "192542                      0.748217                        -0.290062   \n",
       "192543                      0.916189                        -0.087532   \n",
       "\n",
       "        return_status_prob  return_status_logprob  full_predicted_prob  \\\n",
       "0                 0.645161              -0.438255             0.177394   \n",
       "1                 0.783525              -0.243952             0.312581   \n",
       "2                 0.714286              -0.336472             0.284959   \n",
       "3                 0.748217              -0.290062             0.298496   \n",
       "4                 0.931624              -0.070826             0.265510   \n",
       "...                    ...                    ...                  ...   \n",
       "192539            0.893617              -0.112478             0.254678   \n",
       "192540            0.746479              -0.292388             0.199637   \n",
       "192541            0.721805              -0.326001             0.203995   \n",
       "192542            0.748217              -0.290062             0.298496   \n",
       "192543            0.916189              -0.087532             0.365507   \n",
       "\n",
       "        full_predicted_logprob  full_prob  full_logprob  \n",
       "0                    -1.729385   0.177394     -1.729385  \n",
       "1                    -1.162891   0.312581     -1.162891  \n",
       "2                    -1.255411   0.284959     -1.255411  \n",
       "3                    -1.209000   0.298496     -1.209000  \n",
       "4                    -1.326103   0.053184     -2.933999  \n",
       "...                        ...        ...           ...  \n",
       "192539               -1.367755   0.254678     -1.367755  \n",
       "192540               -1.611252   0.199637     -1.611252  \n",
       "192541               -1.589662   0.203995     -1.589662  \n",
       "192542               -1.209000   0.298496     -1.209000  \n",
       "192543               -1.006471   0.365507     -1.006471  \n",
       "\n",
       "[192544 rows x 26 columns]"
      ]
     },
     "execution_count": 6,
     "metadata": {},
     "output_type": "execute_result"
    }
   ],
   "source": [
    "full_result"
   ]
  },
  {
   "cell_type": "code",
   "execution_count": 7,
   "metadata": {},
   "outputs": [
    {
     "name": "stdout",
     "output_type": "stream",
     "text": [
      "------ Return status results ------\n",
      "Mean target probability:  0.627207998160124\n",
      "Mean target log probability:  -0.6118634657298393\n",
      "STATS:                precision    recall  f1-score   support\n",
      "\n",
      "           0       0.77      0.97      0.86    142058\n",
      "           1       0.67      0.20      0.30     24707\n",
      "           2       0.64      0.18      0.28     25779\n",
      "\n",
      "    accuracy                           0.76    192544\n",
      "   macro avg       0.69      0.45      0.48    192544\n",
      "weighted avg       0.74      0.76      0.71    192544\n",
      "\n"
     ]
    },
    {
     "data": {
      "image/png": "[encoded data removed]",
      "text/plain": [
       "<Figure size 432x288 with 2 Axes>"
      ]
     },
     "metadata": {
      "needs_background": "light"
     },
     "output_type": "display_data"
    }
   ],
   "source": [
    "print(\"------ Return status results ------\")\n",
    "print(\"Mean target probability: \", full_result[\"return_status_prob\"].mean())\n",
    "print(\"Mean target log probability: \", full_result[\"return_status_logprob\"].mean())\n",
    "print(\"STATS: \", sklearn.metrics.classification_report(full_result[\"result\"], full_result[\"predicted_return_status\"]))\n",
    "show_confusion_matrix(full_result, \"result\", \"predicted_return_status\")"
   ]
  },
  {
   "cell_type": "code",
   "execution_count": 8,
   "metadata": {},
   "outputs": [
    {
     "name": "stdout",
     "output_type": "stream",
     "text": [
      "------ Size results ------\n",
      "Mean target probability:  0.29663856459606497\n",
      "Mean target log probability:  -1.3219672449644497\n"
     ]
    },
    {
     "name": "stderr",
     "output_type": "stream",
     "text": [
      "/home/martyna/.local/lib/python3.8/site-packages/sklearn/metrics/_classification.py:1245: UndefinedMetricWarning: Precision and F-score are ill-defined and being set to 0.0 in labels with no predicted samples. Use `zero_division` parameter to control this behavior.\n",
      "  _warn_prf(average, modifier, msg_start, len(result))\n",
      "/home/martyna/.local/lib/python3.8/site-packages/sklearn/metrics/_classification.py:1245: UndefinedMetricWarning: Recall and F-score are ill-defined and being set to 0.0 in labels with no true samples. Use `zero_division` parameter to control this behavior.\n",
      "  _warn_prf(average, modifier, msg_start, len(result))\n"
     ]
    },
    {
     "name": "stdout",
     "output_type": "stream",
     "text": [
      "STATS:                precision    recall  f1-score   support\n",
      "\n",
      "           0       0.81      0.77      0.79       526\n",
      "           1       0.79      0.84      0.81     13719\n",
      "           2       0.74      0.72      0.73       729\n",
      "           3       0.69      0.74      0.72       711\n",
      "           4       0.77      0.82      0.80     29562\n",
      "           5       0.82      0.74      0.78      1739\n",
      "           6       1.00      0.22      0.36         9\n",
      "           7       0.80      0.73      0.76       673\n",
      "           8       0.78      0.82      0.80     40804\n",
      "           9       0.84      0.74      0.79      2651\n",
      "          10       1.00      1.00      1.00         3\n",
      "          11       0.79      0.71      0.75       437\n",
      "          12       0.77      0.72      0.75     24702\n",
      "          13       0.43      0.76      0.55      2573\n",
      "          14       0.69      0.49      0.58     11921\n",
      "          15       0.11      0.66      0.19       353\n",
      "          16       0.77      0.72      0.74     17668\n",
      "          17       0.84      0.70      0.76      2120\n",
      "          18       1.00      0.50      0.67         6\n",
      "          19       0.78      0.73      0.75       107\n",
      "          20       0.78      0.79      0.78     18500\n",
      "          21       0.87      0.70      0.78      1661\n",
      "          22       0.67      0.73      0.70        11\n",
      "          23       0.84      0.82      0.83        88\n",
      "          24       0.80      0.76      0.78      9261\n",
      "          25       0.76      0.75      0.75      1240\n",
      "          26       0.75      0.50      0.60       898\n",
      "          27       0.19      0.74      0.30        47\n",
      "          28       0.79      0.74      0.77      3488\n",
      "          29       0.83      0.71      0.77       522\n",
      "          30       1.00      0.17      0.29         6\n",
      "          32       0.77      0.72      0.75      1236\n",
      "          33       0.69      0.62      0.66        32\n",
      "          34       0.57      1.00      0.72        13\n",
      "          35       0.82      0.69      0.75       958\n",
      "          36       0.89      0.76      0.82       208\n",
      "          37       0.67      0.80      0.73         5\n",
      "          38       1.00      0.79      0.88        14\n",
      "          39       0.82      0.77      0.80      1200\n",
      "          40       0.90      0.71      0.79        84\n",
      "          41       0.00      0.00      0.00         1\n",
      "          42       0.82      0.60      0.69        94\n",
      "          43       0.92      0.57      0.71        21\n",
      "          44       1.00      0.83      0.91         6\n",
      "          45       0.83      0.81      0.82       912\n",
      "          46       0.90      0.77      0.83        78\n",
      "          48       0.72      0.59      0.65        58\n",
      "          49       0.91      0.67      0.77        15\n",
      "          50       1.00      0.67      0.80         3\n",
      "          51       0.83      0.81      0.82       530\n",
      "          52       0.85      0.68      0.75        34\n",
      "          53       0.00      0.00      0.00         0\n",
      "          54       0.76      0.62      0.68        21\n",
      "          55       1.00      0.67      0.80         3\n",
      "          56       0.43      1.00      0.60         3\n",
      "          57       0.82      0.76      0.79       255\n",
      "          58       0.00      0.00      0.00        25\n",
      "\n",
      "    accuracy                           0.76    192544\n",
      "   macro avg       0.74      0.67      0.68    192544\n",
      "weighted avg       0.77      0.76      0.76    192544\n",
      "\n"
     ]
    },
    {
     "name": "stderr",
     "output_type": "stream",
     "text": [
      "/home/martyna/.local/lib/python3.8/site-packages/sklearn/metrics/_classification.py:1245: UndefinedMetricWarning: Precision and F-score are ill-defined and being set to 0.0 in labels with no predicted samples. Use `zero_division` parameter to control this behavior.\n",
      "  _warn_prf(average, modifier, msg_start, len(result))\n",
      "/home/martyna/.local/lib/python3.8/site-packages/sklearn/metrics/_classification.py:1245: UndefinedMetricWarning: Recall and F-score are ill-defined and being set to 0.0 in labels with no true samples. Use `zero_division` parameter to control this behavior.\n",
      "  _warn_prf(average, modifier, msg_start, len(result))\n",
      "/home/martyna/.local/lib/python3.8/site-packages/sklearn/metrics/_classification.py:1245: UndefinedMetricWarning: Precision and F-score are ill-defined and being set to 0.0 in labels with no predicted samples. Use `zero_division` parameter to control this behavior.\n",
      "  _warn_prf(average, modifier, msg_start, len(result))\n",
      "/home/martyna/.local/lib/python3.8/site-packages/sklearn/metrics/_classification.py:1245: UndefinedMetricWarning: Recall and F-score are ill-defined and being set to 0.0 in labels with no true samples. Use `zero_division` parameter to control this behavior.\n",
      "  _warn_prf(average, modifier, msg_start, len(result))\n"
     ]
    }
   ],
   "source": [
    "print(\"------ Size results ------\")\n",
    "print(\"Mean target probability: \", full_result[\"size_prob\"].mean())\n",
    "print(\"Mean target log probability: \", full_result[\"size_logprob\"].mean())\n",
    "print(\"STATS: \", sklearn.metrics.classification_report(full_result[\"size\"], full_result[\"predicted_size\"]))\n",
    "#show_confusion_matrix(full_result, \"size\", \"predicted_size\")"
   ]
  },
  {
   "cell_type": "code",
   "execution_count": 12,
   "metadata": {},
   "outputs": [
    {
     "name": "stdout",
     "output_type": "stream",
     "text": [
      "------ Combined result ------\n",
      "Mean target probability:  0.1882236758509267 std =  0.10731636240798872\n",
      "Mean target log probability:  -1.9338307106942894 std = 0.8599221039386169\n"
     ]
    }
   ],
   "source": [
    "\n",
    "print(\"------ Combined result ------\")\n",
    "print(\"Mean target probability: \", full_result[\"full_prob\"].mean(), \"std = \", full_result[\"full_prob\"].std())\n",
    "print(\"Mean target log probability: \", full_result[\"full_logprob\"].mean(), \"std =\", full_result[\"full_logprob\"].std())"
   ]
  },
  {
   "cell_type": "code",
   "execution_count": 13,
   "metadata": {},
   "outputs": [
    {
     "name": "stdout",
     "output_type": "stream",
     "text": [
      "Size model stats\n",
      "{'mean_target_probability': 0.29663856459606497, 'mean_log_target_probability': -1.3219672449644497, 'RMSE': 2.401202410900701, 'accuracy': 0.7614934768156889, 'f1_micro': 0.7614934768156889, 'f1_macro': 0.683051252848609, 'f1_weighted': 0.7629434248009157}\n"
     ]
    }
   ],
   "source": [
    "print(\"Size model stats\")\n",
    "print(result_stats_size_model(full_result))"
   ]
  },
  {
   "cell_type": "markdown",
   "metadata": {},
   "source": [
    "## Testset trained on full dataset"
   ]
  },
  {
   "cell_type": "code",
   "execution_count": 15,
   "metadata": {},
   "outputs": [
    {
     "name": "stdout",
     "output_type": "stream",
     "text": [
      "TRAIN DATA\n",
      "------ Return status results ------\n",
      "Mean target probability:  0.6192061021549563\n",
      "Mean target log probability:  -0.6203967581360276\n",
      "STATS:                precision    recall  f1-score   support\n",
      "\n",
      "           0       0.76      0.96      0.85      8439\n",
      "           1       0.64      0.22      0.32      1555\n",
      "           2       0.63      0.19      0.29      1583\n",
      "\n",
      "    accuracy                           0.75     11577\n",
      "   macro avg       0.68      0.45      0.49     11577\n",
      "weighted avg       0.73      0.75      0.70     11577\n",
      "\n",
      "------ Size results ------\n",
      "Mean target probability:  0.23462420880004148\n",
      "Mean target log probability:  -1.5670045820779572\n",
      "------ Combined result ------\n",
      "Mean target probability:  0.14727973015798101 std =  0.09017788815908118\n",
      "Mean target log probability:  -2.1874013402139845 std =  0.8620604402510462\n"
     ]
    },
    {
     "data": {
      "image/png": "[encoded data removed]",
      "text/plain": [
       "<Figure size 432x288 with 2 Axes>"
      ]
     },
     "metadata": {
      "needs_background": "light"
     },
     "output_type": "display_data"
    }
   ],
   "source": [
    "print(\"TRAIN DATA\")\n",
    "print(\"------ Return status results ------\")\n",
    "print(\"Mean target probability: \", test_on_full_result[\"return_status_prob\"].mean())\n",
    "print(\"Mean target log probability: \", test_on_full_result[\"return_status_logprob\"].mean())\n",
    "print(\"STATS: \", sklearn.metrics.classification_report(test_on_full_result[\"result\"], test_on_full_result[\"predicted_return_status\"]))\n",
    "show_confusion_matrix(test_on_full_result, \"result\", \"predicted_return_status\")\n",
    "print(\"------ Size results ------\")\n",
    "print(\"Mean target probability: \", test_on_full_result[\"size_prob\"].mean())\n",
    "print(\"Mean target log probability: \", test_on_full_result[\"size_logprob\"].mean())\n",
    "print(\"------ Combined result ------\")\n",
    "print(\"Mean target probability: \", test_on_full_result[\"full_prob\"].mean(), \"std = \", test_on_full_result[\"full_prob\"].std())\n",
    "print(\"Mean target log probability: \", test_on_full_result[\"full_logprob\"].mean(), \"std = \", test_on_full_result[\"full_logprob\"].std())"
   ]
  },
  {
   "cell_type": "code",
   "execution_count": 16,
   "metadata": {},
   "outputs": [
    {
     "name": "stdout",
     "output_type": "stream",
     "text": [
      "Size model stats\n",
      "{'mean_target_probability': 0.23462420880004148, 'mean_log_target_probability': -1.5670045820779572, 'RMSE': 3.0128858612216654, 'accuracy': 0.6195905675045349, 'f1_micro': 0.6195905675045349, 'f1_macro': 0.34559671733085595, 'f1_weighted': 0.619706655901337}\n"
     ]
    }
   ],
   "source": [
    "print(\"Size model stats\")\n",
    "print(result_stats_size_model(test_on_full_result))"
   ]
  },
  {
   "cell_type": "markdown",
   "metadata": {},
   "source": [
    "## Test on split dataset"
   ]
  },
  {
   "cell_type": "code",
   "execution_count": 17,
   "metadata": {},
   "outputs": [],
   "source": [
    "if LOAD_MODELS:\n",
    "    train_result = pd.read_csv(f\"results/{train_on_train_datapath}.csv\")\n",
    "    test_result = pd.read_csv(f\"results/{test_on_train_datapath}.csv\")\n",
    "else:\n",
    "    bs = BaselineModel()\n",
    "    train = get_data_from_config(train_config)\n",
    "    bs.train_model(train)\n",
    "    train_result = bs.full_predict_and_logprob(train)\n",
    "    train_result.to_csv(f\"results/{train_on_train_datapath}.csv\", index=False)\n",
    "    test_result = bs.full_predict_and_logprob(test)\n",
    "    test_result.to_csv(f\"results/{test_on_train_datapath}.csv\")\n",
    "\n"
   ]
  },
  {
   "cell_type": "code",
   "execution_count": 18,
   "metadata": {},
   "outputs": [
    {
     "name": "stdout",
     "output_type": "stream",
     "text": [
      "TRAIN DATA\n",
      "------ Return status results ------\n",
      "Mean target probability:  0.6271614345300044\n",
      "Mean target log probability:  -0.6110151476907\n",
      "STATS:                precision    recall  f1-score   support\n",
      "\n",
      "           0       0.77      0.97      0.86    133619\n",
      "           1       0.67      0.20      0.31     23152\n",
      "           2       0.65      0.18      0.28     24196\n",
      "\n",
      "    accuracy                           0.76    180967\n",
      "   macro avg       0.70      0.45      0.48    180967\n",
      "weighted avg       0.74      0.76      0.71    180967\n",
      "\n",
      "------ Size results ------\n",
      "Mean target probability:  0.30452022833050935\n",
      "Mean target log probability:  -1.2893586277284532\n",
      "------ Combined result ------\n",
      "Mean target probability:  0.19304900984592166 std =  0.10772172267947193\n",
      "Mean target log probability:  -1.9003737754191528 std =  0.8472108522480626\n"
     ]
    },
    {
     "data": {
      "image/png": "[encoded data removed]",
      "text/plain": [
       "<Figure size 432x288 with 2 Axes>"
      ]
     },
     "metadata": {
      "needs_background": "light"
     },
     "output_type": "display_data"
    }
   ],
   "source": [
    "print(\"TRAIN DATA\")\n",
    "print(\"------ Return status results ------\")\n",
    "print(\"Mean target probability: \", train_result[\"return_status_prob\"].mean())\n",
    "print(\"Mean target log probability: \", train_result[\"return_status_logprob\"].mean())\n",
    "print(\"STATS: \", sklearn.metrics.classification_report(train_result[\"result\"], train_result[\"predicted_return_status\"]))\n",
    "show_confusion_matrix(train_result, \"result\", \"predicted_return_status\")\n",
    "print(\"------ Size results ------\")\n",
    "print(\"Mean target probability: \", train_result[\"size_prob\"].mean())\n",
    "print(\"Mean target log probability: \", train_result[\"size_logprob\"].mean())\n",
    "print(\"------ Combined result ------\")\n",
    "print(\"Mean target probability: \", train_result[\"full_prob\"].mean(), \"std = \", train_result[\"full_prob\"].std())\n",
    "print(\"Mean target log probability: \", train_result[\"full_logprob\"].mean(), \"std = \", train_result[\"full_logprob\"].std())"
   ]
  },
  {
   "cell_type": "code",
   "execution_count": 19,
   "metadata": {},
   "outputs": [
    {
     "name": "stderr",
     "output_type": "stream",
     "text": [
      "/home/martyna/.local/lib/python3.8/site-packages/sklearn/metrics/_classification.py:1245: UndefinedMetricWarning: Precision and F-score are ill-defined and being set to 0.0 in labels with no predicted samples. Use `zero_division` parameter to control this behavior.\n",
      "  _warn_prf(average, modifier, msg_start, len(result))\n",
      "/home/martyna/.local/lib/python3.8/site-packages/sklearn/metrics/_classification.py:1245: UndefinedMetricWarning: Recall and F-score are ill-defined and being set to 0.0 in labels with no true samples. Use `zero_division` parameter to control this behavior.\n",
      "  _warn_prf(average, modifier, msg_start, len(result))\n",
      "/home/martyna/.local/lib/python3.8/site-packages/sklearn/metrics/_classification.py:1245: UndefinedMetricWarning: Precision and F-score are ill-defined and being set to 0.0 in labels with no predicted samples. Use `zero_division` parameter to control this behavior.\n",
      "  _warn_prf(average, modifier, msg_start, len(result))\n",
      "/home/martyna/.local/lib/python3.8/site-packages/sklearn/metrics/_classification.py:1245: UndefinedMetricWarning: Recall and F-score are ill-defined and being set to 0.0 in labels with no true samples. Use `zero_division` parameter to control this behavior.\n",
      "  _warn_prf(average, modifier, msg_start, len(result))\n"
     ]
    },
    {
     "name": "stdout",
     "output_type": "stream",
     "text": [
      "              precision    recall  f1-score   support\n",
      "\n",
      "           0       0.82      0.80      0.81       513\n",
      "           1       0.81      0.85      0.83     12945\n",
      "           2       0.77      0.75      0.76       696\n",
      "           3       0.71      0.78      0.74       684\n",
      "           4       0.78      0.84      0.81     27692\n",
      "           5       0.84      0.76      0.80      1656\n",
      "           6       1.00      0.29      0.44         7\n",
      "           7       0.80      0.77      0.79       648\n",
      "           8       0.79      0.83      0.81     38113\n",
      "           9       0.87      0.77      0.82      2526\n",
      "          10       1.00      1.00      1.00         3\n",
      "          11       0.80      0.74      0.77       418\n",
      "          12       0.80      0.74      0.76     23221\n",
      "          13       0.45      0.79      0.58      2454\n",
      "          14       0.71      0.52      0.60     11073\n",
      "          15       0.12      0.70      0.20       340\n",
      "          16       0.79      0.74      0.76     16620\n",
      "          17       0.86      0.72      0.78      2051\n",
      "          18       1.00      0.60      0.75         5\n",
      "          19       0.84      0.75      0.79       102\n",
      "          20       0.79      0.80      0.80     17342\n",
      "          21       0.90      0.73      0.80      1601\n",
      "          22       0.67      0.80      0.73        10\n",
      "          23       0.84      0.86      0.85        86\n",
      "          24       0.82      0.78      0.80      8729\n",
      "          25       0.79      0.78      0.79      1196\n",
      "          26       0.77      0.55      0.64       841\n",
      "          27       0.22      0.76      0.34        46\n",
      "          28       0.81      0.76      0.79      3321\n",
      "          29       0.84      0.74      0.78       506\n",
      "          30       1.00      0.20      0.33         5\n",
      "          32       0.80      0.74      0.77      1169\n",
      "          33       0.71      0.71      0.71        31\n",
      "          34       0.65      1.00      0.79        13\n",
      "          35       0.83      0.73      0.78       912\n",
      "          36       0.91      0.77      0.84       203\n",
      "          37       0.80      1.00      0.89         4\n",
      "          38       1.00      0.85      0.92        13\n",
      "          39       0.84      0.79      0.81      1132\n",
      "          40       0.89      0.74      0.81        80\n",
      "          41       0.00      0.00      0.00         1\n",
      "          42       0.85      0.62      0.72        90\n",
      "          43       0.92      0.63      0.75        19\n",
      "          44       1.00      0.83      0.91         6\n",
      "          45       0.85      0.83      0.84       869\n",
      "          46       0.97      0.81      0.88        74\n",
      "          48       0.73      0.65      0.69        54\n",
      "          49       1.00      0.67      0.80        15\n",
      "          50       1.00      0.67      0.80         3\n",
      "          51       0.85      0.83      0.84       507\n",
      "          52       0.88      0.69      0.77        32\n",
      "          53       0.00      0.00      0.00         0\n",
      "          54       0.71      0.79      0.75        19\n",
      "          55       1.00      0.67      0.80         3\n",
      "          56       0.75      1.00      0.86         3\n",
      "          57       0.83      0.78      0.80       241\n",
      "          58       0.00      0.00      0.00        24\n",
      "\n",
      "    accuracy                           0.78    180967\n",
      "   macro avg       0.77      0.71      0.72    180967\n",
      "weighted avg       0.79      0.78      0.78    180967\n",
      "\n"
     ]
    },
    {
     "name": "stderr",
     "output_type": "stream",
     "text": [
      "/home/martyna/.local/lib/python3.8/site-packages/sklearn/metrics/_classification.py:1245: UndefinedMetricWarning: Precision and F-score are ill-defined and being set to 0.0 in labels with no predicted samples. Use `zero_division` parameter to control this behavior.\n",
      "  _warn_prf(average, modifier, msg_start, len(result))\n",
      "/home/martyna/.local/lib/python3.8/site-packages/sklearn/metrics/_classification.py:1245: UndefinedMetricWarning: Recall and F-score are ill-defined and being set to 0.0 in labels with no true samples. Use `zero_division` parameter to control this behavior.\n",
      "  _warn_prf(average, modifier, msg_start, len(result))\n"
     ]
    }
   ],
   "source": [
    "train_size_classification_stats = sklearn.metrics.classification_report(train_result[\"size\"], train_result[\"predicted_size\"])\n",
    "print(train_size_classification_stats)\n"
   ]
  },
  {
   "cell_type": "code",
   "execution_count": 20,
   "metadata": {},
   "outputs": [
    {
     "name": "stdout",
     "output_type": "stream",
     "text": [
      "Mean target probability:  0.30452022833050935\n",
      "Mean target log probability:  -1.2893586277284532\n",
      "Size model stats:\n",
      "{'mean_target_probability': 0.30452022833050935, 'mean_log_target_probability': -1.2893586277284532, 'RMSE': 2.316582184588656, 'accuracy': 0.7784900009393978, 'f1_micro': 0.7784900009393977, 'f1_macro': 0.7153835190818212, 'f1_weighted': 0.7802303846622615}\n"
     ]
    }
   ],
   "source": [
    "print(\"Mean target probability: \", train_result[\"size_prob\"].mean())\n",
    "print(\"Mean target log probability: \", train_result[\"size_logprob\"].mean())\n",
    "print(\"Size model stats:\")\n",
    "print(result_stats_size_model(train_result))\n"
   ]
  },
  {
   "cell_type": "code",
   "execution_count": 22,
   "metadata": {},
   "outputs": [
    {
     "name": "stdout",
     "output_type": "stream",
     "text": [
      "TEST DATA\n",
      "------ Return status results ------\n",
      "Mean target probability:  0.605702052959929\n",
      "Mean target log probability:  -0.6642480898360711\n",
      "STATS:                precision    recall  f1-score   support\n",
      "\n",
      "           0       0.76      0.95      0.84      8439\n",
      "           1       0.57      0.19      0.29      1555\n",
      "           2       0.55      0.17      0.26      1583\n",
      "\n",
      "    accuracy                           0.74     11577\n",
      "   macro avg       0.63      0.44      0.46     11577\n",
      "weighted avg       0.70      0.74      0.69     11577\n",
      "\n",
      "------ Size results ------\n",
      "Mean target probability:  0.17318677069388905\n",
      "Mean target log probability:  -5.30398155593761\n",
      "------ Combined result ------\n",
      "Mean target probability:  0.10747194200947312 std =  0.10655623295370813\n",
      "Mean target log probability:  -5.968229645773682 std =  12.407469731691034\n"
     ]
    },
    {
     "data": {
      "image/png": "[encoded data removed]",
      "text/plain": [
       "<Figure size 432x288 with 2 Axes>"
      ]
     },
     "metadata": {
      "needs_background": "light"
     },
     "output_type": "display_data"
    }
   ],
   "source": [
    "print(\"TEST DATA\")\n",
    "print(\"------ Return status results ------\")\n",
    "print(\"Mean target probability: \", test_result[\"return_status_prob\"].mean())\n",
    "print(\"Mean target log probability: \", test_result[\"return_status_logprob\"].mean())\n",
    "print(\"STATS: \", sklearn.metrics.classification_report(test_result[\"result\"], test_result[\"predicted_return_status\"]))\n",
    "show_confusion_matrix(test_result, \"result\", \"predicted_return_status\")\n",
    "print(\"------ Size results ------\")\n",
    "print(\"Mean target probability: \", test_result[\"size_prob\"].mean())\n",
    "print(\"Mean target log probability: \", test_result[\"size_logprob\"].mean())\n",
    "print(\"------ Combined result ------\")\n",
    "print(\"Mean target probability: \", test_result[\"full_prob\"].mean(), \"std = \", test_result[\"full_prob\"].std())\n",
    "print(\"Mean target log probability: \", test_result[\"full_logprob\"].mean(), \"std = \", test_result[\"full_logprob\"].std())"
   ]
  },
  {
   "cell_type": "code",
   "execution_count": 23,
   "metadata": {},
   "outputs": [
    {
     "name": "stdout",
     "output_type": "stream",
     "text": [
      "              precision    recall  f1-score   support\n",
      "\n",
      "           0       0.10      0.15      0.12        13\n",
      "           1       0.49      0.54      0.51       774\n",
      "           2       0.05      0.03      0.04        33\n",
      "           3       0.05      0.07      0.06        27\n",
      "           4       0.50      0.53      0.52      1870\n",
      "           5       0.23      0.19      0.21        83\n",
      "           6       0.00      0.00      0.00         2\n",
      "           7       0.07      0.08      0.07        25\n",
      "           8       0.54      0.56      0.55      2691\n",
      "           9       0.18      0.14      0.15       125\n",
      "          11       0.06      0.05      0.06        19\n",
      "          12       0.40      0.36      0.38      1481\n",
      "          13       0.08      0.18      0.12       119\n",
      "          14       0.26      0.18      0.21       848\n",
      "          15       0.00      0.00      0.00        13\n",
      "          16       0.38      0.34      0.36      1048\n",
      "          17       0.14      0.14      0.14        69\n",
      "          18       0.00      0.00      0.00         1\n",
      "          19       0.17      0.20      0.18         5\n",
      "          20       0.52      0.53      0.52      1158\n",
      "          21       0.12      0.10      0.11        60\n",
      "          22       0.00      0.00      0.00         1\n",
      "          23       0.20      0.50      0.29         2\n",
      "          24       0.48      0.46      0.47       532\n",
      "          25       0.06      0.05      0.05        44\n",
      "          26       0.08      0.05      0.06        57\n",
      "          27       0.00      0.00      0.00         1\n",
      "          28       0.31      0.31      0.31       167\n",
      "          29       0.12      0.12      0.12        16\n",
      "          30       0.00      0.00      0.00         1\n",
      "          32       0.32      0.27      0.29        67\n",
      "          33       0.00      0.00      0.00         1\n",
      "          34       0.00      0.00      0.00         0\n",
      "          35       0.22      0.22      0.22        46\n",
      "          36       0.50      0.20      0.29         5\n",
      "          37       0.00      0.00      0.00         1\n",
      "          38       0.00      0.00      0.00         1\n",
      "          39       0.45      0.41      0.43        68\n",
      "          40       0.00      0.00      0.00         4\n",
      "          42       0.17      0.25      0.20         4\n",
      "          43       0.00      0.00      0.00         2\n",
      "          45       0.39      0.35      0.37        43\n",
      "          46       0.33      0.25      0.29         4\n",
      "          48       0.00      0.00      0.00         4\n",
      "          49       0.00      0.00      0.00         0\n",
      "          51       0.32      0.52      0.39        23\n",
      "          52       0.00      0.00      0.00         2\n",
      "          54       0.00      0.00      0.00         2\n",
      "          57       0.38      0.21      0.27        14\n",
      "          58       0.00      0.00      0.00         1\n",
      "\n",
      "    accuracy                           0.44     11577\n",
      "   macro avg       0.17      0.17      0.17     11577\n",
      "weighted avg       0.44      0.44      0.44     11577\n",
      "\n"
     ]
    },
    {
     "name": "stderr",
     "output_type": "stream",
     "text": [
      "/home/martyna/.local/lib/python3.8/site-packages/sklearn/metrics/_classification.py:1245: UndefinedMetricWarning: Precision and F-score are ill-defined and being set to 0.0 in labels with no predicted samples. Use `zero_division` parameter to control this behavior.\n",
      "  _warn_prf(average, modifier, msg_start, len(result))\n",
      "/home/martyna/.local/lib/python3.8/site-packages/sklearn/metrics/_classification.py:1245: UndefinedMetricWarning: Recall and F-score are ill-defined and being set to 0.0 in labels with no true samples. Use `zero_division` parameter to control this behavior.\n",
      "  _warn_prf(average, modifier, msg_start, len(result))\n",
      "/home/martyna/.local/lib/python3.8/site-packages/sklearn/metrics/_classification.py:1245: UndefinedMetricWarning: Precision and F-score are ill-defined and being set to 0.0 in labels with no predicted samples. Use `zero_division` parameter to control this behavior.\n",
      "  _warn_prf(average, modifier, msg_start, len(result))\n",
      "/home/martyna/.local/lib/python3.8/site-packages/sklearn/metrics/_classification.py:1245: UndefinedMetricWarning: Recall and F-score are ill-defined and being set to 0.0 in labels with no true samples. Use `zero_division` parameter to control this behavior.\n",
      "  _warn_prf(average, modifier, msg_start, len(result))\n",
      "/home/martyna/.local/lib/python3.8/site-packages/sklearn/metrics/_classification.py:1245: UndefinedMetricWarning: Precision and F-score are ill-defined and being set to 0.0 in labels with no predicted samples. Use `zero_division` parameter to control this behavior.\n",
      "  _warn_prf(average, modifier, msg_start, len(result))\n",
      "/home/martyna/.local/lib/python3.8/site-packages/sklearn/metrics/_classification.py:1245: UndefinedMetricWarning: Recall and F-score are ill-defined and being set to 0.0 in labels with no true samples. Use `zero_division` parameter to control this behavior.\n",
      "  _warn_prf(average, modifier, msg_start, len(result))\n"
     ]
    }
   ],
   "source": [
    "test_size_classification_stats = sklearn.metrics.classification_report(test_result[\"size\"], test_result[\"predicted_size\"])\n",
    "print(test_size_classification_stats)"
   ]
  },
  {
   "cell_type": "code",
   "execution_count": 24,
   "metadata": {},
   "outputs": [
    {
     "name": "stdout",
     "output_type": "stream",
     "text": [
      "Mean target probability:  0.17318677069388905\n",
      "Mean target log probability:  -5.30398155593761\n",
      "Size model stats:\n",
      "{'mean_target_probability': 0.17318677069388905, 'mean_log_target_probability': -5.30398155593768, 'RMSE': 3.737152996091531, 'accuracy': 0.4358642135268204, 'f1_micro': 0.43586421352682037, 'f1_macro': 0.1670958559155178, 'f1_weighted': 0.435325217738675}\n"
     ]
    }
   ],
   "source": [
    "print(\"Mean target probability: \", test_result[\"size_prob\"].mean())\n",
    "print(\"Mean target log probability: \", test_result[\"size_logprob\"].mean())\n",
    "print(\"Size model stats:\")\n",
    "print(result_stats_size_model(test_result))"
   ]
  },
  {
   "cell_type": "markdown",
   "metadata": {},
   "source": [
    "## Size model overview"
   ]
  },
  {
   "cell_type": "code",
   "execution_count": 25,
   "metadata": {},
   "outputs": [
    {
     "name": "stdout",
     "output_type": "stream",
     "text": [
      "Full on full: \n",
      "{'mean_target_probability': 0.29663856459606497, 'mean_log_target_probability': -1.3219672449644497, 'RMSE': 2.401202410900701, 'accuracy': 0.7614934768156889, 'f1_micro': 0.7614934768156889, 'f1_macro': 0.683051252848609, 'f1_weighted': 0.7629434248009157}\n"
     ]
    }
   ],
   "source": [
    "print(\"Full on full: \")\n",
    "print(result_stats_size_model(full_result))"
   ]
  },
  {
   "cell_type": "code",
   "execution_count": 26,
   "metadata": {},
   "outputs": [
    {
     "name": "stdout",
     "output_type": "stream",
     "text": [
      "Test on full: \n",
      "{'mean_target_probability': 0.23462420880004148, 'mean_log_target_probability': -1.5670045820779572, 'RMSE': 3.0128858612216654, 'accuracy': 0.6195905675045349, 'f1_micro': 0.6195905675045349, 'f1_macro': 0.34559671733085595, 'f1_weighted': 0.619706655901337}\n"
     ]
    }
   ],
   "source": [
    "print(\"Test on full: \")\n",
    "print(result_stats_size_model(test_on_full_result))"
   ]
  },
  {
   "cell_type": "code",
   "execution_count": 27,
   "metadata": {},
   "outputs": [
    {
     "name": "stdout",
     "output_type": "stream",
     "text": [
      "train on train: \n",
      "{'mean_target_probability': 0.30452022833050935, 'mean_log_target_probability': -1.2893586277284532, 'RMSE': 2.316582184588656, 'accuracy': 0.7784900009393978, 'f1_micro': 0.7784900009393977, 'f1_macro': 0.7153835190818212, 'f1_weighted': 0.7802303846622615}\n"
     ]
    }
   ],
   "source": [
    "print(\"train on train: \")\n",
    "print(result_stats_size_model(train_result))"
   ]
  },
  {
   "cell_type": "code",
   "execution_count": 28,
   "metadata": {},
   "outputs": [
    {
     "name": "stdout",
     "output_type": "stream",
     "text": [
      "test on train: \n",
      "{'mean_target_probability': 0.17318677069388905, 'mean_log_target_probability': -5.30398155593768, 'RMSE': 3.737152996091531, 'accuracy': 0.4358642135268204, 'f1_micro': 0.43586421352682037, 'f1_macro': 0.1670958559155178, 'f1_weighted': 0.435325217738675}\n"
     ]
    }
   ],
   "source": [
    "print(\"test on train: \")\n",
    "print(result_stats_size_model(test_result))"
   ]
  },
  {
   "cell_type": "code",
   "execution_count": null,
   "metadata": {},
   "outputs": [],
   "source": []
  }
 ],
 "metadata": {
  "kernelspec": {
   "display_name": "Python 3.8.10 64-bit",
   "language": "python",
   "name": "python3"
  },
  "language_info": {
   "codemirror_mode": {
    "name": "ipython",
    "version": 3
   },
   "file_extension": ".py",
   "mimetype": "text/x-python",
   "name": "python",
   "nbconvert_exporter": "python",
   "pygments_lexer": "ipython3",
   "version": "3.8.10"
  },
  "orig_nbformat": 4,
  "vscode": {
   "interpreter": {
    "hash": "31f2aee4e71d21fbe5cf8b01ff0e069b9275f58929596ceb00d14d90e3e16cd6"
   }
  }
 },
 "nbformat": 4,
 "nbformat_minor": 2
}
