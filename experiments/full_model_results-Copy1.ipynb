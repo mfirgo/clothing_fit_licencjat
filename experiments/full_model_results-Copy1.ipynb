{
 "cells": [
  {
   "cell_type": "code",
   "execution_count": 1,
   "id": "d1c720f2-00f1-43f3-b096-48502892728d",
   "metadata": {},
   "outputs": [],
   "source": [
    "import os\n",
    "if os.path.basename(os.getcwd())=='experiments':\n",
    "    os.chdir(\"./..\")"
   ]
  },
  {
   "cell_type": "code",
   "execution_count": 2,
   "id": "c6a7cc6f-17f8-4518-bdaf-e251188cdf2d",
   "metadata": {},
   "outputs": [
    {
     "name": "stdout",
     "output_type": "stream",
     "text": [
      "Warning: Your Kaggle API key is readable by other users on this system! To fix this, you can run 'chmod 600 /home/i310481/.kaggle/kaggle.json'\n"
     ]
    }
   ],
   "source": [
    "from utils.run_recreation import *\n",
    "from model.hierarchical_size_model_new import *\n",
    "from model.full_model import *\n",
    "from utils.data_preparation import get_data_from_config"
   ]
  },
  {
   "cell_type": "code",
   "execution_count": 3,
   "id": "9d782832-7283-4f65-b91e-410cf7403002",
   "metadata": {},
   "outputs": [],
   "source": [
    "displayed_columns_just_target_prob = [\"result_original\", \"user_id_original\", \"item_id_original\", \"size\", \"category\", \"return_status_prob\", \"size_prob\", \"target_prob\"]"
   ]
  },
  {
   "cell_type": "markdown",
   "id": "a9243aa2-18db-4e96-899e-d9dc36b24283",
   "metadata": {},
   "source": [
    "## Full model - leafy-bird-346"
   ]
  },
  {
   "cell_type": "code",
   "execution_count": 4,
   "id": "5df83eb3-0634-4943-8653-3de2ac0b04c6",
   "metadata": {},
   "outputs": [],
   "source": [
    "config = get_run_config_from_file('leafy-bird-346')"
   ]
  },
  {
   "cell_type": "code",
   "execution_count": 5,
   "id": "a84dc5f5-6f69-4c9b-bfc3-339003d94b34",
   "metadata": {},
   "outputs": [],
   "source": [
    "test = get_data_from_config(config[\"data_info\"][\"test\"])\n",
    "train = get_data_from_config(config[\"data_info\"][\"train\"])\n"
   ]
  },
  {
   "cell_type": "code",
   "execution_count": 6,
   "id": "6dc128d1-b832-4a4c-add3-7c419220db2b",
   "metadata": {},
   "outputs": [
    {
     "name": "stdout",
     "output_type": "stream",
     "text": [
      "creating parameters\n",
      "creating constant parameters\n"
     ]
    }
   ],
   "source": [
    "size_model = get_model('leafy-bird-346')"
   ]
  },
  {
   "cell_type": "markdown",
   "id": "6a0c1de3-86e2-4543-bf1d-c7076b7b4a6e",
   "metadata": {},
   "source": [
    "#### w = 0"
   ]
  },
  {
   "cell_type": "code",
   "execution_count": 7,
   "id": "6b112399-49e0-421f-b2d0-a12509b146eb",
   "metadata": {},
   "outputs": [
    {
     "name": "stdout",
     "output_type": "stream",
     "text": [
      "Initializing model... Model initiated\n",
      "Trainset prepared\n"
     ]
    }
   ],
   "source": [
    "return_status_model = HierarchicalStatus(df=train); return_status_model.w= 0\n",
    "full_model = HierarchicalFullModel(size_model, return_status_model)"
   ]
  },
  {
   "cell_type": "code",
   "execution_count": 8,
   "id": "12536469-3c84-444f-84af-88e3f9fd98ca",
   "metadata": {},
   "outputs": [],
   "source": [
    "#full_result = full_model.predict(test)\n",
    "full_result_just_target_prob = full_model.get_target_prob(test)"
   ]
  },
  {
   "cell_type": "code",
   "execution_count": 9,
   "id": "836f42e3-e154-4c62-aef1-76290c51d3ca",
   "metadata": {},
   "outputs": [
    {
     "name": "stdout",
     "output_type": "stream",
     "text": [
      "mean target prob: 0.08488213476187793, std: 0.11219291409506789\n",
      "mean log target prob: -7.664124656636124, std: 29.717593320240763\n",
      "mean log target prob no replacement: -inf, std: nan\n",
      "number of ommited values (all, target_prob, size_prob, return_status_prob) : 402 402 207 198\n"
     ]
    },
    {
     "name": "stderr",
     "output_type": "stream",
     "text": [
      "/ziob/mfirgolska/miniconda3/envs/research/lib/python3.8/site-packages/pandas/core/arraylike.py:397: RuntimeWarning: divide by zero encountered in log\n",
      "  result = getattr(ufunc, method)(*inputs, **kwargs)\n"
     ]
    }
   ],
   "source": [
    "print(f'mean target prob: {full_result_just_target_prob[\"target_prob\"].mean()}, std: {full_result_just_target_prob[\"target_prob\"].std()}')\n",
    "print(f'mean log target prob: {np.log(full_result_just_target_prob[\"target_prob\"]).replace({-np.inf:np.nan}).mean()}, std: {np.log(full_result_just_target_prob[\"target_prob\"]).replace({-np.inf:np.nan}).std()}')\n",
    "print(f'mean log target prob no replacement: {np.log(full_result_just_target_prob[\"target_prob\"]).mean()}, std: {np.log(full_result_just_target_prob[\"target_prob\"]).std()}')\n",
    "print(\"number of ommited values (all, target_prob, size_prob, return_status_prob) :\", (np.log(full_result_just_target_prob[\"target_prob\"])==-np.inf).sum(), (full_result_just_target_prob[\"target_prob\"]==0).sum(), (full_result_just_target_prob[\"size_prob\"]==0).sum(),(full_result_just_target_prob[\"return_status_prob\"]==0).sum())"
   ]
  },
  {
   "cell_type": "markdown",
   "id": "1f6593ce-0572-43bc-9b1a-0e6de610c257",
   "metadata": {},
   "source": [
    "#### with w!=0"
   ]
  },
  {
   "cell_type": "code",
   "execution_count": 10,
   "id": "4efe6bee-332d-4829-a336-3ecb13baa25d",
   "metadata": {},
   "outputs": [
    {
     "name": "stdout",
     "output_type": "stream",
     "text": [
      "Initializing model... Model initiated\n",
      "Trainset prepared\n",
      "w = 0.09090909090909091\n"
     ]
    }
   ],
   "source": [
    "return_status_model = HierarchicalStatus(df=train, init_w=\"mean\")\n",
    "full_model = HierarchicalFullModel(size_model, return_status_model)\n",
    "print(\"w =\",return_status_model.w)"
   ]
  },
  {
   "cell_type": "code",
   "execution_count": 11,
   "id": "5376fc60-c467-4a36-bbcc-bd9496007989",
   "metadata": {},
   "outputs": [],
   "source": [
    "#full_result = full_model.predict(test)\n",
    "full_result_just_target_prob = full_model.get_target_prob(test)"
   ]
  },
  {
   "cell_type": "code",
   "execution_count": 12,
   "id": "7efc8979-eb5d-4b4c-a773-dbdbbd463b2d",
   "metadata": {},
   "outputs": [
    {
     "name": "stdout",
     "output_type": "stream",
     "text": [
      "mean target prob: 0.07892108650838958, std: 0.1043684672485753\n",
      "mean log target prob: -7.805430884905407, std: 29.562170707176943\n",
      "mean log target prob no replacement: -inf, std: nan\n",
      "number of ommited values (all, target_prob, size_prob, return_status_prob) : 208 208 207 1\n"
     ]
    },
    {
     "name": "stderr",
     "output_type": "stream",
     "text": [
      "/ziob/mfirgolska/miniconda3/envs/research/lib/python3.8/site-packages/pandas/core/arraylike.py:397: RuntimeWarning: divide by zero encountered in log\n",
      "  result = getattr(ufunc, method)(*inputs, **kwargs)\n"
     ]
    }
   ],
   "source": [
    "print(f'mean target prob: {full_result_just_target_prob[\"target_prob\"].mean()}, std: {full_result_just_target_prob[\"target_prob\"].std()}')\n",
    "print(f'mean log target prob: {np.log(full_result_just_target_prob[\"target_prob\"]).replace({-np.inf:np.nan}).mean()}, std: {np.log(full_result_just_target_prob[\"target_prob\"]).replace({-np.inf:np.nan}).std()}')\n",
    "print(f'mean log target prob no replacement: {np.log(full_result_just_target_prob[\"target_prob\"]).mean()}, std: {np.log(full_result_just_target_prob[\"target_prob\"]).std()}')\n",
    "print(\"number of ommited values (all, target_prob, size_prob, return_status_prob) :\", (np.log(full_result_just_target_prob[\"target_prob\"])==-np.inf).sum(), (full_result_just_target_prob[\"target_prob\"]==0).sum(), (full_result_just_target_prob[\"size_prob\"]==0).sum(),(full_result_just_target_prob[\"return_status_prob\"]==0).sum())"
   ]
  },
  {
   "cell_type": "markdown",
   "id": "d20b3ec0-1e49-4cea-91af-105cfa9ac11c",
   "metadata": {},
   "source": [
    "### Add dummy sales, w=0"
   ]
  },
  {
   "cell_type": "code",
   "execution_count": 13,
   "id": "557e4fae-eedc-4ec2-805c-9a7b8c94bb2b",
   "metadata": {},
   "outputs": [
    {
     "name": "stdout",
     "output_type": "stream",
     "text": [
      "Initializing model... Model initiated\n",
      "Trainset prepared\n",
      "w = 0\n"
     ]
    }
   ],
   "source": [
    "return_status_model = HierarchicalStatus(df=train, add_dummy_sales=1); return_status_model.w=0\n",
    "full_model = HierarchicalFullModel(size_model, return_status_model)\n",
    "print(\"w =\",return_status_model.w)"
   ]
  },
  {
   "cell_type": "code",
   "execution_count": 14,
   "id": "3f2a77bb-7140-4972-a902-e06e1e9b6d75",
   "metadata": {},
   "outputs": [],
   "source": [
    "#full_result = full_model.predict(test)\n",
    "full_result_just_target_prob = full_model.get_target_prob(test)"
   ]
  },
  {
   "cell_type": "code",
   "execution_count": 15,
   "id": "655fc4b7-c4cd-4e12-984f-15cac7815239",
   "metadata": {},
   "outputs": [
    {
     "name": "stdout",
     "output_type": "stream",
     "text": [
      "mean target prob: 0.08118028535606706, std: 0.1049812773688023\n",
      "mean log target prob: -7.724094239902121, std: 29.535636514726956\n",
      "mean log target prob no replacement: -inf, std: nan\n",
      "number of ommited values (all, target_prob, size_prob, return_status_prob) : 207 207 207 0\n"
     ]
    },
    {
     "name": "stderr",
     "output_type": "stream",
     "text": [
      "/ziob/mfirgolska/miniconda3/envs/research/lib/python3.8/site-packages/pandas/core/arraylike.py:397: RuntimeWarning: divide by zero encountered in log\n",
      "  result = getattr(ufunc, method)(*inputs, **kwargs)\n"
     ]
    }
   ],
   "source": [
    "print(f'mean target prob: {full_result_just_target_prob[\"target_prob\"].mean()}, std: {full_result_just_target_prob[\"target_prob\"].std()}')\n",
    "print(f'mean log target prob: {np.log(full_result_just_target_prob[\"target_prob\"]).replace({-np.inf:np.nan}).mean()}, std: {np.log(full_result_just_target_prob[\"target_prob\"]).replace({-np.inf:np.nan}).std()}')\n",
    "print(f'mean log target prob no replacement: {np.log(full_result_just_target_prob[\"target_prob\"]).mean()}, std: {np.log(full_result_just_target_prob[\"target_prob\"]).std()}')\n",
    "print(\"number of ommited values (all, target_prob, size_prob, return_status_prob) :\", (np.log(full_result_just_target_prob[\"target_prob\"])==-np.inf).sum(), (full_result_just_target_prob[\"target_prob\"]==0).sum(), (full_result_just_target_prob[\"size_prob\"]==0).sum(),(full_result_just_target_prob[\"return_status_prob\"]==0).sum())"
   ]
  },
  {
   "cell_type": "markdown",
   "id": "404e8e17-761b-41f4-a73e-25165204c423",
   "metadata": {},
   "source": [
    "#### Add dummy sales, w!=0"
   ]
  },
  {
   "cell_type": "code",
   "execution_count": 16,
   "id": "a60188b4-d4f3-49de-a5f8-ca032abb53dc",
   "metadata": {},
   "outputs": [
    {
     "name": "stdout",
     "output_type": "stream",
     "text": [
      "Initializing model... Model initiated\n",
      "Trainset prepared\n",
      "w = 0.09090909090909091\n"
     ]
    }
   ],
   "source": [
    "return_status_model = HierarchicalStatus(df=train, add_dummy_sales=0.1, init_w=\"mean\")\n",
    "full_model = HierarchicalFullModel(size_model, return_status_model)\n",
    "print(\"w =\",return_status_model.w)"
   ]
  },
  {
   "cell_type": "code",
   "execution_count": 17,
   "id": "884f8127-db55-421d-b6a0-230a4ae400d0",
   "metadata": {},
   "outputs": [],
   "source": [
    "#full_result = full_model.predict(test)\n",
    "full_result_just_target_prob = full_model.get_target_prob(test)"
   ]
  },
  {
   "cell_type": "code",
   "execution_count": 18,
   "id": "560bc15a-f97d-4022-9ca7-14dc74e00009",
   "metadata": {},
   "outputs": [
    {
     "name": "stdout",
     "output_type": "stream",
     "text": [
      "mean target prob: 0.07889854655840746, std: 0.10432114986162964\n",
      "mean log target prob: -7.806147049023065, std: 29.56095250891045\n",
      "mean log target prob no replacement: -inf, std: nan\n",
      "number of ommited values (all, target_prob, size_prob, return_status_prob) : 207 207 207 0\n"
     ]
    },
    {
     "name": "stderr",
     "output_type": "stream",
     "text": [
      "/ziob/mfirgolska/miniconda3/envs/research/lib/python3.8/site-packages/pandas/core/arraylike.py:397: RuntimeWarning: divide by zero encountered in log\n",
      "  result = getattr(ufunc, method)(*inputs, **kwargs)\n"
     ]
    }
   ],
   "source": [
    "print(f'mean target prob: {full_result_just_target_prob[\"target_prob\"].mean()}, std: {full_result_just_target_prob[\"target_prob\"].std()}')\n",
    "print(f'mean log target prob: {np.log(full_result_just_target_prob[\"target_prob\"]).replace({-np.inf:np.nan}).mean()}, std: {np.log(full_result_just_target_prob[\"target_prob\"]).replace({-np.inf:np.nan}).std()}')\n",
    "print(f'mean log target prob no replacement: {np.log(full_result_just_target_prob[\"target_prob\"]).mean()}, std: {np.log(full_result_just_target_prob[\"target_prob\"]).std()}')\n",
    "print(\"number of ommited values (all, target_prob, size_prob, return_status_prob) :\", (np.log(full_result_just_target_prob[\"target_prob\"])==-np.inf).sum(), (full_result_just_target_prob[\"target_prob\"]==0).sum(), (full_result_just_target_prob[\"size_prob\"]==0).sum(),(full_result_just_target_prob[\"return_status_prob\"]==0).sum())"
   ]
  },
  {
   "cell_type": "code",
   "execution_count": 19,
   "id": "e5cc5c63-1222-47f8-b881-4a252ef19808",
   "metadata": {},
   "outputs": [
    {
     "name": "stdout",
     "output_type": "stream",
     "text": [
      "Initializing model... Model initiated\n",
      "Trainset prepared\n",
      "w = 0.0001\n"
     ]
    }
   ],
   "source": [
    "return_status_model = HierarchicalStatus(df=train, add_dummy_sales=0.1); return_status_model.w = 0.0001\n",
    "full_model = HierarchicalFullModel(size_model, return_status_model)\n",
    "print(\"w =\",return_status_model.w)"
   ]
  },
  {
   "cell_type": "code",
   "execution_count": 20,
   "id": "e5458f6a-0f44-4f60-a337-ad1c30c67e32",
   "metadata": {},
   "outputs": [],
   "source": [
    "#full_result = full_model.predict(test)\n",
    "full_result_just_target_prob = full_model.get_target_prob(test)"
   ]
  },
  {
   "cell_type": "code",
   "execution_count": 21,
   "id": "925301e5-e08e-41c2-94b6-ccedeaae555d",
   "metadata": {},
   "outputs": [
    {
     "name": "stdout",
     "output_type": "stream",
     "text": [
      "mean target prob: 0.08368319448555868, std: 0.10948743778045195\n",
      "mean log target prob: -7.723307957318863, std: 29.544423530697674\n",
      "mean log target prob no replacement: -inf, std: nan\n",
      "number of ommited values (all, target_prob, size_prob, return_status_prob) : 207 207 207 0\n"
     ]
    },
    {
     "name": "stderr",
     "output_type": "stream",
     "text": [
      "/ziob/mfirgolska/miniconda3/envs/research/lib/python3.8/site-packages/pandas/core/arraylike.py:397: RuntimeWarning: divide by zero encountered in log\n",
      "  result = getattr(ufunc, method)(*inputs, **kwargs)\n"
     ]
    }
   ],
   "source": [
    "print(f'mean target prob: {full_result_just_target_prob[\"target_prob\"].mean()}, std: {full_result_just_target_prob[\"target_prob\"].std()}')\n",
    "print(f'mean log target prob: {np.log(full_result_just_target_prob[\"target_prob\"]).replace({-np.inf:np.nan}).mean()}, std: {np.log(full_result_just_target_prob[\"target_prob\"]).replace({-np.inf:np.nan}).std()}')\n",
    "print(f'mean log target prob no replacement: {np.log(full_result_just_target_prob[\"target_prob\"]).mean()}, std: {np.log(full_result_just_target_prob[\"target_prob\"]).std()}')\n",
    "print(\"number of ommited values (all, target_prob, size_prob, return_status_prob) :\", (np.log(full_result_just_target_prob[\"target_prob\"])==-np.inf).sum(), (full_result_just_target_prob[\"target_prob\"]==0).sum(), (full_result_just_target_prob[\"size_prob\"]==0).sum(),(full_result_just_target_prob[\"return_status_prob\"]==0).sum())"
   ]
  },
  {
   "cell_type": "code",
   "execution_count": null,
   "id": "ab0754ee-e0f7-41f1-a3a9-128a162dc106",
   "metadata": {},
   "outputs": [],
   "source": []
  }
 ],
 "metadata": {
  "kernelspec": {
   "display_name": "Python 3 (ipykernel)",
   "language": "python",
   "name": "python3"
  },
  "language_info": {
   "codemirror_mode": {
    "name": "ipython",
    "version": 3
   },
   "file_extension": ".py",
   "mimetype": "text/x-python",
   "name": "python",
   "nbconvert_exporter": "python",
   "pygments_lexer": "ipython3",
   "version": "3.8.13"
  }
 },
 "nbformat": 4,
 "nbformat_minor": 5
}
