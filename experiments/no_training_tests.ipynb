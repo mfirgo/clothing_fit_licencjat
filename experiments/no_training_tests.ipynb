{
 "cells": [
  {
   "cell_type": "code",
   "execution_count": null,
   "metadata": {},
   "outputs": [],
   "source": [
    "import os\n",
    "if os.path.basename(os.getcwd())=='experiments':\n",
    "    os.chdir(\"./..\")"
   ]
  },
  {
   "cell_type": "code",
   "execution_count": null,
   "metadata": {},
   "outputs": [],
   "source": [
    "import wandb\n",
    "from model.hierarchical_size_model_new import *\n",
    "from utils.data_preparation import *\n",
    "from utils.evaluation import *\n",
    "from utils.experiment import default_config"
   ]
  },
  {
   "cell_type": "code",
   "execution_count": null,
   "metadata": {},
   "outputs": [],
   "source": [
    "def no_training_test(config, notes, project=\"clothing-fit\", group=\"no_training\", entity=\"clothing-fit-licencjat\"):\n",
    "    run = wandb.init(project=project, config=config, notes=notes, group=group, entity=entity)\n",
    "    if \"data_info\" not in wandb.config:\n",
    "        data_info = {\"train\":{}, \"test\":{}}\n",
    "        train = get_processed_renttherunway_data(data_info=data_info[\"train\"])\n",
    "        test = get_test_runttherunway_data(data_info=data_info[\"test\"])\n",
    "        wandb.config.update({\"data_info\": data_info})\n",
    "    else:\n",
    "        data_info = wandb.config.data_info\n",
    "        train = get_data_from_config(data_info[\"train\"])\n",
    "        test = get_data_from_config(data_info[\"test\"])\n",
    "    model = HierarchicalSize(train, wandb.config.default_learning_rate, config=wandb.config)\n",
    "    wandb.config.update(model.get_model_config())\n",
    "    run.tags = run.tags + model.tags\n",
    "    log_values = model.get_parameters_stats()\n",
    "    results = model.predict(test)\n",
    "    log_values.update(result_stats_size_model(results))\n",
    "    log_values.update(categorical_mean_prob_stats_size_model(results))\n",
    "    wandb.log(log_values, step=model.iterations)\n",
    "    wandb.finish()"
   ]
  },
  {
   "cell_type": "code",
   "execution_count": null,
   "metadata": {},
   "outputs": [],
   "source": [
    "no_training_test(config=default_config(), notes=\"statified dataset, sigma_0, mu_0 per customer\")"
   ]
  },
  {
   "cell_type": "code",
   "execution_count": null,
   "metadata": {},
   "outputs": [],
   "source": [
    "wandb.finish()"
   ]
  },
  {
   "cell_type": "code",
   "execution_count": null,
   "metadata": {},
   "outputs": [],
   "source": []
  }
 ],
 "metadata": {
  "kernelspec": {
   "display_name": "Python 3.8.10 64-bit",
   "language": "python",
   "name": "python3"
  },
  "language_info": {
   "codemirror_mode": {
    "name": "ipython",
    "version": 3
   },
   "file_extension": ".py",
   "mimetype": "text/x-python",
   "name": "python",
   "nbconvert_exporter": "python",
   "pygments_lexer": "ipython3",
   "version": "3.8.10"
  },
  "orig_nbformat": 4,
  "vscode": {
   "interpreter": {
    "hash": "31f2aee4e71d21fbe5cf8b01ff0e069b9275f58929596ceb00d14d90e3e16cd6"
   }
  }
 },
 "nbformat": 4,
 "nbformat_minor": 2
}
