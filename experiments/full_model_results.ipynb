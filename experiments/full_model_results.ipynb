{
 "cells": [
  {
   "cell_type": "code",
   "execution_count": 1,
   "id": "d1c720f2-00f1-43f3-b096-48502892728d",
   "metadata": {},
   "outputs": [],
   "source": [
    "import os\n",
    "if os.path.basename(os.getcwd())=='experiments':\n",
    "    os.chdir(\"./..\")"
   ]
  },
  {
   "cell_type": "code",
   "execution_count": 2,
   "id": "c6a7cc6f-17f8-4518-bdaf-e251188cdf2d",
   "metadata": {},
   "outputs": [],
   "source": [
    "import pandas as pd\n",
    "from utils.run_recreation import *\n",
    "from model.hierarchical_size_model_new import *\n",
    "from model.full_model import *\n",
    "from utils.data_preparation import get_data_from_config\n",
    "from utils.evaluation import *"
   ]
  },
  {
   "cell_type": "code",
   "execution_count": 3,
   "id": "9d782832-7283-4f65-b91e-410cf7403002",
   "metadata": {},
   "outputs": [],
   "source": [
    "displayed_columns_just_target_prob = [\"result_original\", \"user_id_original\", \"item_id_original\", \"size\", \"category\", \"return_status_prob\", \"size_prob\", \"target_prob\"]"
   ]
  },
  {
   "cell_type": "code",
   "execution_count": 4,
   "id": "1ae35f81",
   "metadata": {},
   "outputs": [],
   "source": [
    "predict_type = \"sampled\"\n",
    "LOAD_RESULTS=False\n",
    "run_name = 'leafy-bird-346'"
   ]
  },
  {
   "cell_type": "markdown",
   "id": "a9243aa2-18db-4e96-899e-d9dc36b24283",
   "metadata": {},
   "source": [
    "## Full model - leafy-bird-346"
   ]
  },
  {
   "cell_type": "code",
   "execution_count": 5,
   "id": "5df83eb3-0634-4943-8653-3de2ac0b04c6",
   "metadata": {},
   "outputs": [],
   "source": [
    "config = get_run_config_from_file(run_name)"
   ]
  },
  {
   "cell_type": "code",
   "execution_count": 6,
   "id": "a84dc5f5-6f69-4c9b-bfc3-339003d94b34",
   "metadata": {},
   "outputs": [],
   "source": [
    "test = get_data_from_config(config[\"data_info\"][\"test\"])\n",
    "train = get_data_from_config(config[\"data_info\"][\"train\"])\n"
   ]
  },
  {
   "cell_type": "code",
   "execution_count": 7,
   "id": "6dc128d1-b832-4a4c-add3-7c419220db2b",
   "metadata": {},
   "outputs": [
    {
     "name": "stdout",
     "output_type": "stream",
     "text": [
      "creating parameters\n",
      "creating constant parameters\n"
     ]
    }
   ],
   "source": [
    "size_model = get_model(run_name)"
   ]
  },
  {
   "cell_type": "markdown",
   "id": "6a0c1de3-86e2-4543-bf1d-c7076b7b4a6e",
   "metadata": {},
   "source": [
    "#### w = 0"
   ]
  },
  {
   "cell_type": "code",
   "execution_count": 8,
   "id": "6b112399-49e0-421f-b2d0-a12509b146eb",
   "metadata": {},
   "outputs": [
    {
     "name": "stdout",
     "output_type": "stream",
     "text": [
      "Initializing model... Model initiated\n",
      "Trainset prepared\n"
     ]
    }
   ],
   "source": [
    "return_status_model = HierarchicalStatus(df=train); return_status_model.w= 0\n",
    "full_model = HierarchicalFullModel(size_model, return_status_model)"
   ]
  },
  {
   "cell_type": "code",
   "execution_count": 9,
   "id": "12536469-3c84-444f-84af-88e3f9fd98ca",
   "metadata": {},
   "outputs": [],
   "source": [
    "if LOAD_RESULTS:\n",
    "    full_result = pd.read_csv(f\"results/full_model_results_w=0_predict={predict_type}.csv\")\n",
    "    full_result_just_target_prob = pd.read_csv(f\"results/full_model_just_target_prob_w=0_predict={predict_type}.csv\")\n",
    "else:\n",
    "    full_result = full_model.predict(test, predict_type=predict_type)\n",
    "    full_result_just_target_prob = full_model.get_target_prob(test, predict_type=predict_type)\n",
    "    full_result.to_csv(f\"results/full_model_results_w=0_predict={predict_type}.csv\", index=False)\n",
    "    full_result_just_target_prob.to_csv(f\"results/full_model_just_target_prob_w=0_predict={predict_type}.csv\", index=False)"
   ]
  },
  {
   "cell_type": "code",
   "execution_count": 10,
   "id": "836f42e3-e154-4c62-aef1-76290c51d3ca",
   "metadata": {},
   "outputs": [
    {
     "name": "stdout",
     "output_type": "stream",
     "text": [
      "mean target prob: 0.06334352590664513, std: 0.05153715867615038\n",
      "mean log target prob: -3.3159673196239607, std: 3.9413001203498843\n",
      "mean log target prob no replacement: -inf, std: nan\n",
      "number of ommited values (all, target_prob, size_prob, return_status_prob) : 200 200 2 198\n"
     ]
    },
    {
     "name": "stderr",
     "output_type": "stream",
     "text": [
      "/home/martyna/.local/lib/python3.8/site-packages/pandas/core/arraylike.py:358: RuntimeWarning: divide by zero encountered in log\n",
      "  result = getattr(ufunc, method)(*inputs, **kwargs)\n"
     ]
    }
   ],
   "source": [
    "print(f'mean target prob: {full_result_just_target_prob[\"target_prob\"].mean()}, std: {full_result_just_target_prob[\"target_prob\"].std()}')\n",
    "print(f'mean log target prob: {np.log(full_result_just_target_prob[\"target_prob\"]).replace({-np.inf:np.nan}).mean()}, std: {np.log(full_result_just_target_prob[\"target_prob\"]).replace({-np.inf:np.nan}).std()}')\n",
    "print(f'mean log target prob no replacement: {np.log(full_result_just_target_prob[\"target_prob\"]).mean()}, std: {np.log(full_result_just_target_prob[\"target_prob\"]).std()}')\n",
    "print(\"number of ommited values (all, target_prob, size_prob, return_status_prob) :\", (np.log(full_result_just_target_prob[\"target_prob\"])==-np.inf).sum(), (full_result_just_target_prob[\"target_prob\"]==0).sum(), (full_result_just_target_prob[\"size_prob\"]==0).sum(),(full_result_just_target_prob[\"return_status_prob\"]==0).sum())"
   ]
  },
  {
   "cell_type": "code",
   "execution_count": 11,
   "id": "9c8a0dcb",
   "metadata": {},
   "outputs": [
    {
     "name": "stdout",
     "output_type": "stream",
     "text": [
      "-- accuracy --\n",
      "full model, size:  0.2486827330050963\n",
      "size model, on fit:  0.24894186749589703\n",
      "full model, status:  0.7387924332728686\n",
      "-- rmse --\n",
      "full model, size:  3.56729261124484\n",
      "size model, on fit:  3.5627617294811538\n"
     ]
    }
   ],
   "source": [
    "full_model_stats(full_result)"
   ]
  },
  {
   "cell_type": "markdown",
   "id": "1f6593ce-0572-43bc-9b1a-0e6de610c257",
   "metadata": {},
   "source": [
    "#### with w!=0"
   ]
  },
  {
   "cell_type": "code",
   "execution_count": 12,
   "id": "4efe6bee-332d-4829-a336-3ecb13baa25d",
   "metadata": {},
   "outputs": [
    {
     "name": "stdout",
     "output_type": "stream",
     "text": [
      "Initializing model... Model initiated\n",
      "Trainset prepared\n",
      "w = 0.09090909090909091 = 0.09091\n"
     ]
    }
   ],
   "source": [
    "return_status_model = HierarchicalStatus(df=train, init_w=\"mean\")\n",
    "full_model = HierarchicalFullModel(size_model, return_status_model)\n",
    "w = str(round(return_status_model.w , 5))\n",
    "print(\"w =\",return_status_model.w,\"=\", w)"
   ]
  },
  {
   "cell_type": "code",
   "execution_count": 13,
   "id": "5376fc60-c467-4a36-bbcc-bd9496007989",
   "metadata": {},
   "outputs": [],
   "source": [
    "if LOAD_RESULTS:\n",
    "    full_result = pd.read_csv(f\"results/full_model_results_w={w}_predict={predict_type}.csv\")\n",
    "    full_result_just_target_prob = pd.read_csv(f\"results/full_model_just_target_prob_w={w}_predict={predict_type}.csv\")\n",
    "else:\n",
    "    full_result = full_model.predict(test, predict_type=predict_type)\n",
    "    full_result_just_target_prob = full_model.get_target_prob(test, predict_type=predict_type)\n",
    "    full_result.to_csv(f\"results/full_model_results_w={w}_predict={predict_type}.csv\", index=False)\n",
    "    full_result_just_target_prob.to_csv(f\"results/full_model_just_target_prob_w={w}_predict={predict_type}.csv\", index=False)\n"
   ]
  },
  {
   "cell_type": "code",
   "execution_count": 14,
   "id": "7efc8979-eb5d-4b4c-a773-dbdbbd463b2d",
   "metadata": {},
   "outputs": [
    {
     "name": "stdout",
     "output_type": "stream",
     "text": [
      "mean target prob: 0.05840383835593271, std: 0.04807178024179686\n",
      "mean log target prob: -3.448810917845376, std: 2.8646301318099114\n",
      "mean log target prob no replacement: -inf, std: nan\n",
      "number of ommited values (all, target_prob, size_prob, return_status_prob) : 3 3 2 1\n"
     ]
    },
    {
     "name": "stderr",
     "output_type": "stream",
     "text": [
      "/home/martyna/.local/lib/python3.8/site-packages/pandas/core/arraylike.py:358: RuntimeWarning: divide by zero encountered in log\n",
      "  result = getattr(ufunc, method)(*inputs, **kwargs)\n"
     ]
    }
   ],
   "source": [
    "print(f'mean target prob: {full_result_just_target_prob[\"target_prob\"].mean()}, std: {full_result_just_target_prob[\"target_prob\"].std()}')\n",
    "print(f'mean log target prob: {np.log(full_result_just_target_prob[\"target_prob\"]).replace({-np.inf:np.nan}).mean()}, std: {np.log(full_result_just_target_prob[\"target_prob\"]).replace({-np.inf:np.nan}).std()}')\n",
    "print(f'mean log target prob no replacement: {np.log(full_result_just_target_prob[\"target_prob\"]).mean()}, std: {np.log(full_result_just_target_prob[\"target_prob\"]).std()}')\n",
    "print(\"number of ommited values (all, target_prob, size_prob, return_status_prob) :\", (np.log(full_result_just_target_prob[\"target_prob\"])==-np.inf).sum(), (full_result_just_target_prob[\"target_prob\"]==0).sum(), (full_result_just_target_prob[\"size_prob\"]==0).sum(),(full_result_just_target_prob[\"return_status_prob\"]==0).sum())"
   ]
  },
  {
   "cell_type": "code",
   "execution_count": 15,
   "id": "30cbc72d",
   "metadata": {},
   "outputs": [
    {
     "name": "stdout",
     "output_type": "stream",
     "text": [
      "-- accuracy --\n",
      "full model, size:  0.24946013647749848\n",
      "size model, on fit:  0.24920100198669776\n",
      "full model, status:  0.7294635916040425\n",
      "-- rmse --\n",
      "full model, size:  3.5642403506237863\n",
      "size model, on fit:  3.564252467934668\n"
     ]
    }
   ],
   "source": [
    "full_model_stats(full_result)"
   ]
  },
  {
   "cell_type": "markdown",
   "id": "d20b3ec0-1e49-4cea-91af-105cfa9ac11c",
   "metadata": {},
   "source": [
    "### Add dummy sales, w=0"
   ]
  },
  {
   "cell_type": "code",
   "execution_count": 16,
   "id": "557e4fae-eedc-4ec2-805c-9a7b8c94bb2b",
   "metadata": {},
   "outputs": [
    {
     "name": "stdout",
     "output_type": "stream",
     "text": [
      "Initializing model... Model initiated\n",
      "Trainset prepared\n",
      "w = 0 = 0\n"
     ]
    }
   ],
   "source": [
    "dummy = 1\n",
    "return_status_model = HierarchicalStatus(df=train, add_dummy_sales=dummy); return_status_model.w=0\n",
    "full_model = HierarchicalFullModel(size_model, return_status_model)\n",
    "w = str(round(return_status_model.w , 5))\n",
    "print(\"w =\",return_status_model.w,\"=\", w)"
   ]
  },
  {
   "cell_type": "code",
   "execution_count": 18,
   "id": "3f2a77bb-7140-4972-a902-e06e1e9b6d75",
   "metadata": {},
   "outputs": [],
   "source": [
    "if LOAD_RESULTS:\n",
    "    full_result = pd.read_csv(f\"results/full_model_results_w={w}_predict={predict_type}_dummy={dummy}.csv\")\n",
    "    full_result_just_target_prob = pd.read_csv(f\"results/full_model_just_target_prob_w={w}_predict={predict_type}_dummy={dummy}.csv\")\n",
    "else:\n",
    "    full_result = full_model.predict(test, predict_type=predict_type)\n",
    "    full_result_just_target_prob = full_model.get_target_prob(test, predict_type=predict_type)\n",
    "    full_result.to_csv(f\"results/full_model_results_w={w}_predict={predict_type}_dummy={dummy}.csv\", index=False)\n",
    "    full_result_just_target_prob.to_csv(f\"results/full_model_just_target_prob_w={w}_predict={predict_type}_dummy={dummy}.csv\", index=False)\n"
   ]
  },
  {
   "cell_type": "code",
   "execution_count": 19,
   "id": "655fc4b7-c4cd-4e12-984f-15cac7815239",
   "metadata": {},
   "outputs": [
    {
     "name": "stdout",
     "output_type": "stream",
     "text": [
      "mean target prob: 0.060645461671058117, std: 0.04860389827750257\n",
      "mean log target prob: -3.397920379939414, std: 5.295485924962236\n",
      "mean log target prob no replacement: -inf, std: nan\n",
      "number of ommited values (all, target_prob, size_prob, return_status_prob) : 2 2 2 0\n"
     ]
    },
    {
     "name": "stderr",
     "output_type": "stream",
     "text": [
      "/home/martyna/.local/lib/python3.8/site-packages/pandas/core/arraylike.py:358: RuntimeWarning: divide by zero encountered in log\n",
      "  result = getattr(ufunc, method)(*inputs, **kwargs)\n"
     ]
    }
   ],
   "source": [
    "print(f'mean target prob: {full_result_just_target_prob[\"target_prob\"].mean()}, std: {full_result_just_target_prob[\"target_prob\"].std()}')\n",
    "print(f'mean log target prob: {np.log(full_result_just_target_prob[\"target_prob\"]).replace({-np.inf:np.nan}).mean()}, std: {np.log(full_result_just_target_prob[\"target_prob\"]).replace({-np.inf:np.nan}).std()}')\n",
    "print(f'mean log target prob no replacement: {np.log(full_result_just_target_prob[\"target_prob\"]).mean()}, std: {np.log(full_result_just_target_prob[\"target_prob\"]).std()}')\n",
    "print(\"number of ommited values (all, target_prob, size_prob, return_status_prob) :\", (np.log(full_result_just_target_prob[\"target_prob\"])==-np.inf).sum(), (full_result_just_target_prob[\"target_prob\"]==0).sum(), (full_result_just_target_prob[\"size_prob\"]==0).sum(),(full_result_just_target_prob[\"return_status_prob\"]==0).sum())"
   ]
  },
  {
   "cell_type": "code",
   "execution_count": 20,
   "id": "ba252763",
   "metadata": {},
   "outputs": [
    {
     "name": "stdout",
     "output_type": "stream",
     "text": [
      "-- accuracy --\n",
      "full model, size:  0.24954651464109873\n",
      "size model, on fit:  0.2503239181135009\n",
      "full model, status:  0.7379286516368662\n",
      "-- rmse --\n",
      "full model, size:  3.5719265685202606\n",
      "size model, on fit:  3.5687209469986385\n"
     ]
    }
   ],
   "source": [
    "full_model_stats(full_result)"
   ]
  },
  {
   "cell_type": "markdown",
   "id": "404e8e17-761b-41f4-a73e-25165204c423",
   "metadata": {},
   "source": [
    "#### Add dummy sales, w!=0"
   ]
  },
  {
   "cell_type": "code",
   "execution_count": 21,
   "id": "a60188b4-d4f3-49de-a5f8-ca032abb53dc",
   "metadata": {},
   "outputs": [
    {
     "name": "stdout",
     "output_type": "stream",
     "text": [
      "Initializing model... Model initiated\n",
      "Trainset prepared\n",
      "w = 0.09090909090909091 = 0.09091\n"
     ]
    }
   ],
   "source": [
    "dummy = 0.1\n",
    "return_status_model = HierarchicalStatus(df=train, add_dummy_sales=dummy, init_w=\"mean\")\n",
    "full_model = HierarchicalFullModel(size_model, return_status_model)\n",
    "w = str(round(return_status_model.w , 5))\n",
    "print(\"w =\",return_status_model.w,\"=\", w)"
   ]
  },
  {
   "cell_type": "code",
   "execution_count": 22,
   "id": "884f8127-db55-421d-b6a0-230a4ae400d0",
   "metadata": {},
   "outputs": [],
   "source": [
    "if LOAD_RESULTS:\n",
    "    full_result = pd.read_csv(f\"results/full_model_results_w={w}_predict={predict_type}_dummy={dummy}.csv\")\n",
    "    full_result_just_target_prob = pd.read_csv(f\"results/full_model_just_target_prob_w={w}_predict={predict_type}_dummy={dummy}.csv\")\n",
    "else:\n",
    "    full_result = full_model.predict(test, predict_type=predict_type)\n",
    "    full_result_just_target_prob = full_model.get_target_prob(test, predict_type=predict_type)\n",
    "    full_result.to_csv(f\"results/full_model_results_w={w}_predict={predict_type}_dummy={dummy}.csv\", index=False)\n",
    "    full_result_just_target_prob.to_csv(f\"results/full_model_just_target_prob_w={w}_predict={predict_type}_dummy={dummy}.csv\", index=False)\n"
   ]
  },
  {
   "cell_type": "code",
   "execution_count": 23,
   "id": "560bc15a-f97d-4022-9ca7-14dc74e00009",
   "metadata": {},
   "outputs": [
    {
     "name": "stdout",
     "output_type": "stream",
     "text": [
      "mean target prob: 0.05845974040711276, std: 0.048068310959294334\n",
      "mean log target prob: -3.4889748262848865, std: 5.595678280314323\n",
      "mean log target prob no replacement: -inf, std: nan\n",
      "number of ommited values (all, target_prob, size_prob, return_status_prob) : 2 2 2 0\n"
     ]
    },
    {
     "name": "stderr",
     "output_type": "stream",
     "text": [
      "/home/martyna/.local/lib/python3.8/site-packages/pandas/core/arraylike.py:358: RuntimeWarning: divide by zero encountered in log\n",
      "  result = getattr(ufunc, method)(*inputs, **kwargs)\n"
     ]
    }
   ],
   "source": [
    "print(f'mean target prob: {full_result_just_target_prob[\"target_prob\"].mean()}, std: {full_result_just_target_prob[\"target_prob\"].std()}')\n",
    "print(f'mean log target prob: {np.log(full_result_just_target_prob[\"target_prob\"]).replace({-np.inf:np.nan}).mean()}, std: {np.log(full_result_just_target_prob[\"target_prob\"]).replace({-np.inf:np.nan}).std()}')\n",
    "print(f'mean log target prob no replacement: {np.log(full_result_just_target_prob[\"target_prob\"]).mean()}, std: {np.log(full_result_just_target_prob[\"target_prob\"]).std()}')\n",
    "print(\"number of ommited values (all, target_prob, size_prob, return_status_prob) :\", (np.log(full_result_just_target_prob[\"target_prob\"])==-np.inf).sum(), (full_result_just_target_prob[\"target_prob\"]==0).sum(), (full_result_just_target_prob[\"size_prob\"]==0).sum(),(full_result_just_target_prob[\"return_status_prob\"]==0).sum())"
   ]
  },
  {
   "cell_type": "code",
   "execution_count": 24,
   "id": "57e0629b",
   "metadata": {},
   "outputs": [
    {
     "name": "stdout",
     "output_type": "stream",
     "text": [
      "-- accuracy --\n",
      "full model, size:  0.24686879156949124\n",
      "size model, on fit:  0.246782413405891\n",
      "full model, status:  0.7293772134404423\n",
      "-- rmse --\n",
      "full model, size:  3.5643978724521723\n",
      "size model, on fit:  3.5647007794808783\n"
     ]
    }
   ],
   "source": [
    "full_model_stats(full_result)"
   ]
  },
  {
   "cell_type": "code",
   "execution_count": 25,
   "id": "e5cc5c63-1222-47f8-b881-4a252ef19808",
   "metadata": {},
   "outputs": [
    {
     "name": "stdout",
     "output_type": "stream",
     "text": [
      "Initializing model... Model initiated\n",
      "Trainset prepared\n",
      "w = 0.0001 = 0.0001\n"
     ]
    }
   ],
   "source": [
    "dummy = 0.1\n",
    "return_status_model = HierarchicalStatus(df=train, add_dummy_sales=0.1); return_status_model.w = 0.0001\n",
    "full_model = HierarchicalFullModel(size_model, return_status_model)\n",
    "w = str(round(return_status_model.w , 5))\n",
    "print(\"w =\",return_status_model.w,\"=\", w)"
   ]
  },
  {
   "cell_type": "code",
   "execution_count": 29,
   "id": "e5458f6a-0f44-4f60-a337-ad1c30c67e32",
   "metadata": {},
   "outputs": [],
   "source": [
    "if LOAD_RESULTS:\n",
    "    full_result = pd.read_csv(f\"results/full_model_results_w={w}_predict={predict_type}_dummy={dummy}.csv\")\n",
    "    full_result_just_target_prob = pd.read_csv(f\"results/full_model_just_target_prob_w={w}_predict={predict_type}_dummy={dummy}.csv\")\n",
    "else:\n",
    "    full_result = full_model.predict(test, predict_type=predict_type)\n",
    "    full_result_just_target_prob = full_model.get_target_prob(test, predict_type=predict_type)\n",
    "    full_result.to_csv(f\"results/full_model_results_w={w}_predict={predict_type}_dummy={dummy}.csv\", index=False)\n",
    "    full_result_just_target_prob.to_csv(f\"results/full_model_just_target_prob_w={w}_predict={predict_type}_dummy={dummy}.csv\", index=False)\n"
   ]
  },
  {
   "cell_type": "code",
   "execution_count": 30,
   "id": "925301e5-e08e-41c2-94b6-ccedeaae555d",
   "metadata": {},
   "outputs": [
    {
     "name": "stdout",
     "output_type": "stream",
     "text": [
      "mean target prob: 0.062343046595667, std: 0.050286858685945936\n",
      "mean log target prob: -3.391838933079021, std: 4.689543595963637\n",
      "mean log target prob no replacement: -inf, std: nan\n",
      "number of ommited values (all, target_prob, size_prob, return_status_prob) : 2 2 2 0\n"
     ]
    },
    {
     "name": "stderr",
     "output_type": "stream",
     "text": [
      "/home/martyna/.local/lib/python3.8/site-packages/pandas/core/arraylike.py:358: RuntimeWarning: divide by zero encountered in log\n",
      "  result = getattr(ufunc, method)(*inputs, **kwargs)\n"
     ]
    }
   ],
   "source": [
    "print(f'mean target prob: {full_result_just_target_prob[\"target_prob\"].mean()}, std: {full_result_just_target_prob[\"target_prob\"].std()}')\n",
    "print(f'mean log target prob: {np.log(full_result_just_target_prob[\"target_prob\"]).replace({-np.inf:np.nan}).mean()}, std: {np.log(full_result_just_target_prob[\"target_prob\"]).replace({-np.inf:np.nan}).std()}')\n",
    "print(f'mean log target prob no replacement: {np.log(full_result_just_target_prob[\"target_prob\"]).mean()}, std: {np.log(full_result_just_target_prob[\"target_prob\"]).std()}')\n",
    "print(\"number of ommited values (all, target_prob, size_prob, return_status_prob) :\", (np.log(full_result_just_target_prob[\"target_prob\"])==-np.inf).sum(), (full_result_just_target_prob[\"target_prob\"]==0).sum(), (full_result_just_target_prob[\"size_prob\"]==0).sum(),(full_result_just_target_prob[\"return_status_prob\"]==0).sum())"
   ]
  },
  {
   "cell_type": "code",
   "execution_count": 31,
   "id": "ab0754ee-e0f7-41f1-a3a9-128a162dc106",
   "metadata": {},
   "outputs": [
    {
     "name": "stdout",
     "output_type": "stream",
     "text": [
      "-- accuracy --\n",
      "full model, size:  0.25118769974950333\n",
      "size model, on fit:  0.25161959056750455\n",
      "full model, status:  0.7398289712360715\n",
      "-- rmse --\n",
      "full model, size:  3.5780757253268756\n",
      "size model, on fit:  3.5783050570461223\n"
     ]
    }
   ],
   "source": [
    "full_model_stats(full_result)"
   ]
  },
  {
   "cell_type": "code",
   "execution_count": null,
   "id": "5af088b8",
   "metadata": {},
   "outputs": [],
   "source": []
  }
 ],
 "metadata": {
  "kernelspec": {
   "display_name": "Python 3.8.10 64-bit",
   "language": "python",
   "name": "python3"
  },
  "language_info": {
   "codemirror_mode": {
    "name": "ipython",
    "version": 3
   },
   "file_extension": ".py",
   "mimetype": "text/x-python",
   "name": "python",
   "nbconvert_exporter": "python",
   "pygments_lexer": "ipython3",
   "version": "3.8.10"
  },
  "vscode": {
   "interpreter": {
    "hash": "31f2aee4e71d21fbe5cf8b01ff0e069b9275f58929596ceb00d14d90e3e16cd6"
   }
  }
 },
 "nbformat": 4,
 "nbformat_minor": 5
}
